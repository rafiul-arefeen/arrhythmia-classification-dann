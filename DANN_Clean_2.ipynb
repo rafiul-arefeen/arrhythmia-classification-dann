{
  "cells": [
    {
      "cell_type": "markdown",
      "metadata": {
        "id": "6nyd6p2fH7vQ"
      },
      "source": [
        "# 1. Importing Libraries and Path Definitions"
      ]
    },
    {
      "cell_type": "markdown",
      "metadata": {},
      "source": [
        "## **a. Summary, At a Glance**"
      ]
    },
    {
      "cell_type": "markdown",
      "metadata": {},
      "source": [
        "\n",
        "*   **Task:** Arrhythmia Classification, 3 classes\n",
        "*   **Dataset:** MIT-BIH ECG dataset, Dataset website: [Here](https://physionet.org/content/mitdb/1.0.0/), INCART ECG dataset, website: [Here](https://physionet.org/content/incartdb/1.0.0/)\n",
        "*   **Model:** CNN_LSTM with Attention"
      ]
    },
    {
      "cell_type": "markdown",
      "metadata": {},
      "source": [
        "# **Main Parts of the Study:**\n",
        "\n",
        "1.   **Part A: Installing Packages and Basic Visualization of ECG**\n",
        "2.   **Part B: Denoising, R-Peak Detection, Segmentation**\n",
        "3.   **Part C: Dataset Loading**\n",
        "4.   **Part D: Train-Test Splitting and Class Balancing**\n",
        "5.   **Part E: Model Building and Training**\n",
        "6.   **Part F: Results**"
      ]
    },
    {
      "cell_type": "markdown",
      "metadata": {},
      "source": [
        "# **Part A: Installing Packages and Basic Visualization of ECG**"
      ]
    },
    {
      "cell_type": "markdown",
      "metadata": {},
      "source": [
        "## **A1: Installing Packages**\n"
      ]
    },
    {
      "cell_type": "code",
      "execution_count": 501,
      "metadata": {
        "colab": {
          "base_uri": "https://localhost:8080/"
        },
        "id": "D8NNtI3fIOVW",
        "outputId": "4f48b88f-4119-4164-9bc5-b9ca987190de"
      },
      "outputs": [
        {
          "name": "stdout",
          "output_type": "stream",
          "text": [
            "Requirement already satisfied: wfdb in c:\\users\\iaref\\miniconda3\\envs\\tf-gpu\\lib\\site-packages (4.3.0)\n",
            "Requirement already satisfied: aiohttp>=3.10.11 in c:\\users\\iaref\\miniconda3\\envs\\tf-gpu\\lib\\site-packages (from wfdb) (3.12.15)\n",
            "Requirement already satisfied: fsspec>=2023.10.0 in c:\\users\\iaref\\miniconda3\\envs\\tf-gpu\\lib\\site-packages (from wfdb) (2025.7.0)\n",
            "Requirement already satisfied: matplotlib>=3.2.2 in c:\\users\\iaref\\miniconda3\\envs\\tf-gpu\\lib\\site-packages (from wfdb) (3.10.6)\n",
            "Requirement already satisfied: numpy>=1.26.4 in c:\\users\\iaref\\miniconda3\\envs\\tf-gpu\\lib\\site-packages (from wfdb) (1.26.4)\n",
            "Requirement already satisfied: pandas>=2.2.3 in c:\\users\\iaref\\miniconda3\\envs\\tf-gpu\\lib\\site-packages (from wfdb) (2.3.2)\n",
            "Requirement already satisfied: requests>=2.8.1 in c:\\users\\iaref\\miniconda3\\envs\\tf-gpu\\lib\\site-packages (from wfdb) (2.32.5)\n",
            "Requirement already satisfied: scipy>=1.13.0 in c:\\users\\iaref\\miniconda3\\envs\\tf-gpu\\lib\\site-packages (from wfdb) (1.15.3)\n",
            "Requirement already satisfied: soundfile>=0.10.0 in c:\\users\\iaref\\miniconda3\\envs\\tf-gpu\\lib\\site-packages (from wfdb) (0.13.1)\n",
            "Requirement already satisfied: aiohappyeyeballs>=2.5.0 in c:\\users\\iaref\\miniconda3\\envs\\tf-gpu\\lib\\site-packages (from aiohttp>=3.10.11->wfdb) (2.6.1)\n",
            "Requirement already satisfied: aiosignal>=1.4.0 in c:\\users\\iaref\\miniconda3\\envs\\tf-gpu\\lib\\site-packages (from aiohttp>=3.10.11->wfdb) (1.4.0)\n",
            "Requirement already satisfied: async-timeout<6.0,>=4.0 in c:\\users\\iaref\\miniconda3\\envs\\tf-gpu\\lib\\site-packages (from aiohttp>=3.10.11->wfdb) (5.0.1)\n",
            "Requirement already satisfied: attrs>=17.3.0 in c:\\users\\iaref\\miniconda3\\envs\\tf-gpu\\lib\\site-packages (from aiohttp>=3.10.11->wfdb) (25.3.0)\n",
            "Requirement already satisfied: frozenlist>=1.1.1 in c:\\users\\iaref\\miniconda3\\envs\\tf-gpu\\lib\\site-packages (from aiohttp>=3.10.11->wfdb) (1.7.0)\n",
            "Requirement already satisfied: multidict<7.0,>=4.5 in c:\\users\\iaref\\miniconda3\\envs\\tf-gpu\\lib\\site-packages (from aiohttp>=3.10.11->wfdb) (6.6.4)\n",
            "Requirement already satisfied: propcache>=0.2.0 in c:\\users\\iaref\\miniconda3\\envs\\tf-gpu\\lib\\site-packages (from aiohttp>=3.10.11->wfdb) (0.3.2)\n",
            "Requirement already satisfied: yarl<2.0,>=1.17.0 in c:\\users\\iaref\\miniconda3\\envs\\tf-gpu\\lib\\site-packages (from aiohttp>=3.10.11->wfdb) (1.20.1)\n",
            "Requirement already satisfied: typing-extensions>=4.1.0 in c:\\users\\iaref\\appdata\\roaming\\python\\python310\\site-packages (from multidict<7.0,>=4.5->aiohttp>=3.10.11->wfdb) (4.15.0)\n",
            "Requirement already satisfied: idna>=2.0 in c:\\users\\iaref\\miniconda3\\envs\\tf-gpu\\lib\\site-packages (from yarl<2.0,>=1.17.0->aiohttp>=3.10.11->wfdb) (3.10)\n",
            "Requirement already satisfied: contourpy>=1.0.1 in c:\\users\\iaref\\miniconda3\\envs\\tf-gpu\\lib\\site-packages (from matplotlib>=3.2.2->wfdb) (1.3.2)\n",
            "Requirement already satisfied: cycler>=0.10 in c:\\users\\iaref\\miniconda3\\envs\\tf-gpu\\lib\\site-packages (from matplotlib>=3.2.2->wfdb) (0.12.1)\n",
            "Requirement already satisfied: fonttools>=4.22.0 in c:\\users\\iaref\\miniconda3\\envs\\tf-gpu\\lib\\site-packages (from matplotlib>=3.2.2->wfdb) (4.59.2)\n",
            "Requirement already satisfied: kiwisolver>=1.3.1 in c:\\users\\iaref\\miniconda3\\envs\\tf-gpu\\lib\\site-packages (from matplotlib>=3.2.2->wfdb) (1.4.9)\n",
            "Requirement already satisfied: packaging>=20.0 in c:\\users\\iaref\\appdata\\roaming\\python\\python310\\site-packages (from matplotlib>=3.2.2->wfdb) (25.0)\n",
            "Requirement already satisfied: pillow>=8 in c:\\users\\iaref\\miniconda3\\envs\\tf-gpu\\lib\\site-packages (from matplotlib>=3.2.2->wfdb) (11.3.0)\n",
            "Requirement already satisfied: pyparsing>=2.3.1 in c:\\users\\iaref\\miniconda3\\envs\\tf-gpu\\lib\\site-packages (from matplotlib>=3.2.2->wfdb) (3.2.3)\n",
            "Requirement already satisfied: python-dateutil>=2.7 in c:\\users\\iaref\\appdata\\roaming\\python\\python310\\site-packages (from matplotlib>=3.2.2->wfdb) (2.9.0.post0)\n",
            "Requirement already satisfied: pytz>=2020.1 in c:\\users\\iaref\\miniconda3\\envs\\tf-gpu\\lib\\site-packages (from pandas>=2.2.3->wfdb) (2025.2)\n",
            "Requirement already satisfied: tzdata>=2022.7 in c:\\users\\iaref\\miniconda3\\envs\\tf-gpu\\lib\\site-packages (from pandas>=2.2.3->wfdb) (2025.2)\n",
            "Requirement already satisfied: six>=1.5 in c:\\users\\iaref\\appdata\\roaming\\python\\python310\\site-packages (from python-dateutil>=2.7->matplotlib>=3.2.2->wfdb) (1.17.0)\n",
            "Requirement already satisfied: charset_normalizer<4,>=2 in c:\\users\\iaref\\miniconda3\\envs\\tf-gpu\\lib\\site-packages (from requests>=2.8.1->wfdb) (3.4.3)\n",
            "Requirement already satisfied: urllib3<3,>=1.21.1 in c:\\users\\iaref\\miniconda3\\envs\\tf-gpu\\lib\\site-packages (from requests>=2.8.1->wfdb) (2.5.0)\n",
            "Requirement already satisfied: certifi>=2017.4.17 in c:\\users\\iaref\\miniconda3\\envs\\tf-gpu\\lib\\site-packages (from requests>=2.8.1->wfdb) (2025.8.3)\n",
            "Requirement already satisfied: cffi>=1.0 in c:\\users\\iaref\\miniconda3\\envs\\tf-gpu\\lib\\site-packages (from soundfile>=0.10.0->wfdb) (1.17.1)\n",
            "Requirement already satisfied: pycparser in c:\\users\\iaref\\miniconda3\\envs\\tf-gpu\\lib\\site-packages (from cffi>=1.0->soundfile>=0.10.0->wfdb) (2.22)\n",
            "Note: you may need to restart the kernel to use updated packages.\n",
            "Requirement already satisfied: PyWavelets in c:\\users\\iaref\\miniconda3\\envs\\tf-gpu\\lib\\site-packages (1.8.0)\n",
            "Requirement already satisfied: numpy<3,>=1.23 in c:\\users\\iaref\\miniconda3\\envs\\tf-gpu\\lib\\site-packages (from PyWavelets) (1.26.4)\n",
            "Note: you may need to restart the kernel to use updated packages.\n",
            "Requirement already satisfied: imbalanced-learn in c:\\users\\iaref\\miniconda3\\envs\\tf-gpu\\lib\\site-packages (0.14.0)Note: you may need to restart the kernel to use updated packages.\n",
            "\n",
            "Requirement already satisfied: numpy<3,>=1.25.2 in c:\\users\\iaref\\miniconda3\\envs\\tf-gpu\\lib\\site-packages (from imbalanced-learn) (1.26.4)\n",
            "Requirement already satisfied: scipy<2,>=1.11.4 in c:\\users\\iaref\\miniconda3\\envs\\tf-gpu\\lib\\site-packages (from imbalanced-learn) (1.15.3)\n",
            "Requirement already satisfied: scikit-learn<2,>=1.4.2 in c:\\users\\iaref\\miniconda3\\envs\\tf-gpu\\lib\\site-packages (from imbalanced-learn) (1.7.1)\n",
            "Requirement already satisfied: joblib<2,>=1.2.0 in c:\\users\\iaref\\miniconda3\\envs\\tf-gpu\\lib\\site-packages (from imbalanced-learn) (1.5.2)\n",
            "Requirement already satisfied: threadpoolctl<4,>=2.0.0 in c:\\users\\iaref\\miniconda3\\envs\\tf-gpu\\lib\\site-packages (from imbalanced-learn) (3.6.0)\n",
            "Requirement already satisfied: seaborn in c:\\users\\iaref\\miniconda3\\envs\\tf-gpu\\lib\\site-packages (0.13.2)\n",
            "Requirement already satisfied: numpy!=1.24.0,>=1.20 in c:\\users\\iaref\\miniconda3\\envs\\tf-gpu\\lib\\site-packages (from seaborn) (1.26.4)\n",
            "Requirement already satisfied: pandas>=1.2 in c:\\users\\iaref\\miniconda3\\envs\\tf-gpu\\lib\\site-packages (from seaborn) (2.3.2)\n",
            "Requirement already satisfied: matplotlib!=3.6.1,>=3.4 in c:\\users\\iaref\\miniconda3\\envs\\tf-gpu\\lib\\site-packages (from seaborn) (3.10.6)\n",
            "Requirement already satisfied: contourpy>=1.0.1 in c:\\users\\iaref\\miniconda3\\envs\\tf-gpu\\lib\\site-packages (from matplotlib!=3.6.1,>=3.4->seaborn) (1.3.2)\n",
            "Requirement already satisfied: cycler>=0.10 in c:\\users\\iaref\\miniconda3\\envs\\tf-gpu\\lib\\site-packages (from matplotlib!=3.6.1,>=3.4->seaborn) (0.12.1)\n",
            "Requirement already satisfied: fonttools>=4.22.0 in c:\\users\\iaref\\miniconda3\\envs\\tf-gpu\\lib\\site-packages (from matplotlib!=3.6.1,>=3.4->seaborn) (4.59.2)\n",
            "Requirement already satisfied: kiwisolver>=1.3.1 in c:\\users\\iaref\\miniconda3\\envs\\tf-gpu\\lib\\site-packages (from matplotlib!=3.6.1,>=3.4->seaborn) (1.4.9)\n",
            "Requirement already satisfied: packaging>=20.0 in c:\\users\\iaref\\appdata\\roaming\\python\\python310\\site-packages (from matplotlib!=3.6.1,>=3.4->seaborn) (25.0)\n",
            "Requirement already satisfied: pillow>=8 in c:\\users\\iaref\\miniconda3\\envs\\tf-gpu\\lib\\site-packages (from matplotlib!=3.6.1,>=3.4->seaborn) (11.3.0)\n",
            "Requirement already satisfied: pyparsing>=2.3.1 in c:\\users\\iaref\\miniconda3\\envs\\tf-gpu\\lib\\site-packages (from matplotlib!=3.6.1,>=3.4->seaborn) (3.2.3)\n",
            "Requirement already satisfied: python-dateutil>=2.7 in c:\\users\\iaref\\appdata\\roaming\\python\\python310\\site-packages (from matplotlib!=3.6.1,>=3.4->seaborn) (2.9.0.post0)\n",
            "Requirement already satisfied: pytz>=2020.1 in c:\\users\\iaref\\miniconda3\\envs\\tf-gpu\\lib\\site-packages (from pandas>=1.2->seaborn) (2025.2)\n",
            "Requirement already satisfied: tzdata>=2022.7 in c:\\users\\iaref\\miniconda3\\envs\\tf-gpu\\lib\\site-packages (from pandas>=1.2->seaborn) (2025.2)\n",
            "Requirement already satisfied: six>=1.5 in c:\\users\\iaref\\appdata\\roaming\\python\\python310\\site-packages (from python-dateutil>=2.7->matplotlib!=3.6.1,>=3.4->seaborn) (1.17.0)\n",
            "Note: you may need to restart the kernel to use updated packages.\n"
          ]
        }
      ],
      "source": [
        "%pip install wfdb\n",
        "%pip install PyWavelets\n",
        "%pip install imbalanced-learn\n",
        "%pip install seaborn\n",
        "# %pip install tensorflow==2.10.1"
      ]
    },
    {
      "cell_type": "code",
      "execution_count": 502,
      "metadata": {
        "colab": {
          "base_uri": "https://localhost:8080/"
        },
        "id": "-EpgdAu_HZiA",
        "outputId": "c605a883-c724-401e-ee97-ac8ef8998e79"
      },
      "outputs": [],
      "source": [
        "import os\n",
        "import datetime\n",
        "import wfdb\n",
        "import pywt\n",
        "import seaborn\n",
        "import numpy as np\n",
        "import tensorflow as tf\n",
        "import matplotlib.pyplot as plt\n",
        "from sklearn.metrics import confusion_matrix\n",
        "from os.path import join as osj\n",
        "import pandas as pd"
      ]
    },
    {
      "cell_type": "code",
      "execution_count": 503,
      "metadata": {},
      "outputs": [],
      "source": [
        "# from google.colab import drive\n",
        "# drive.mount('/content/drive')"
      ]
    },
    {
      "cell_type": "code",
      "execution_count": 504,
      "metadata": {},
      "outputs": [
        {
          "name": "stdout",
          "output_type": "stream",
          "text": [
            "2.10.1\n",
            "Num GPUs Available: 1\n"
          ]
        }
      ],
      "source": [
        "print(tf.__version__)\n",
        "print(\"Num GPUs Available:\", len(tf.config.list_physical_devices('GPU')))"
      ]
    },
    {
      "cell_type": "code",
      "execution_count": 505,
      "metadata": {
        "id": "_dmg5Fh-IKO5"
      },
      "outputs": [],
      "source": [
        "# Base project folder\n",
        "project_path = r\"F:\\ML\"  \n",
        "\n",
        "# Figures/images\n",
        "figure_path = os.path.join(project_path, \"images\") + os.sep\n",
        "\n",
        "# MIT-BIH dataset\n",
        "RECORDS_MITDB = os.path.join(project_path, \"dataset\", \"mitdb\", \"RECORDS\")\n",
        "DATA_ROOT_MITDB = os.path.join(project_path, \"dataset\", \"mitdb\") + os.sep\n",
        "\n",
        "# INCART dataset\n",
        "RECORDS_INCART = os.path.join(project_path, \"dataset\", \"incartdb\", \"RECORDS\") \n",
        "DATA_ROOT_INCART = os.path.join(project_path, \"dataset\", \"incartdb\") + os.sep\n",
        "\n",
        "# Logs + models\n",
        "logdir = os.path.join(project_path, \"logs\", datetime.datetime.now().strftime(\"%Y%m%d-%H%M%S\"))\n",
        "model_path = os.path.join(project_path, \"models\", \"ecg_model_dann.h5\")\n",
        "\n",
        "osj_mitdb = os.path.join \n",
        "osj_incart = os.path.join"
      ]
    },
    {
      "cell_type": "markdown",
      "metadata": {
        "id": "odjMVI2aIwhS"
      },
      "source": [
        "# 2. Data Loading"
      ]
    },
    {
      "cell_type": "code",
      "execution_count": 506,
      "metadata": {
        "colab": {
          "base_uri": "https://localhost:8080/"
        },
        "id": "XGcu2yvjIyy-",
        "outputId": "545d9942-2648-4828-f2af-c8859803cfd9"
      },
      "outputs": [
        {
          "data": {
            "text/plain": [
              "array([100, 101, 102, 103, 104, 105, 106, 107, 108, 109, 111, 112, 113,\n",
              "       114, 115, 116, 117, 118, 119, 121, 122, 123, 124, 200, 201, 202,\n",
              "       203, 205, 207, 208, 209, 210, 212, 213, 214, 215, 217, 219, 220,\n",
              "       221, 222, 223, 228, 230, 231, 232, 233, 234], dtype=int64)"
            ]
          },
          "execution_count": 506,
          "metadata": {},
          "output_type": "execute_result"
        }
      ],
      "source": [
        "patient_ids_mitdb = pd.read_csv(RECORDS_MITDB, header=None)[0].to_numpy()\n",
        "patient_ids_mitdb"
      ]
    },
    {
      "cell_type": "code",
      "execution_count": 507,
      "metadata": {
        "colab": {
          "base_uri": "https://localhost:8080/"
        },
        "id": "EGo77YOdI07d",
        "outputId": "85e6fb63-0e62-4def-8989-65488e66598f"
      },
      "outputs": [
        {
          "data": {
            "text/plain": [
              "array(['I01', 'I02', 'I03', 'I04', 'I05', 'I06', 'I07', 'I08', 'I09',\n",
              "       'I10', 'I11', 'I12', 'I13', 'I14', 'I15', 'I16', 'I17', 'I18',\n",
              "       'I19', 'I20', 'I21', 'I22', 'I23', 'I24', 'I25', 'I26', 'I27',\n",
              "       'I28', 'I29', 'I30', 'I31', 'I32', 'I33', 'I34', 'I35', 'I36',\n",
              "       'I37', 'I38', 'I39', 'I40', 'I41', 'I42', 'I43', 'I44', 'I45',\n",
              "       'I46', 'I47', 'I48', 'I49', 'I50', 'I51', 'I52', 'I53', 'I54',\n",
              "       'I55', 'I56', 'I57', 'I58', 'I59', 'I60', 'I61', 'I62', 'I63',\n",
              "       'I64', 'I65', 'I66', 'I67', 'I68', 'I69', 'I70', 'I71', 'I72',\n",
              "       'I73', 'I74', 'I75'], dtype=object)"
            ]
          },
          "execution_count": 507,
          "metadata": {},
          "output_type": "execute_result"
        }
      ],
      "source": [
        "patient_ids_incart = pd.read_csv(RECORDS_INCART, header=None)[0].to_numpy()\n",
        "patient_ids_incart"
      ]
    },
    {
      "cell_type": "markdown",
      "metadata": {
        "id": "BFmecD0cJ0mh"
      },
      "source": [
        "### Denoise"
      ]
    },
    {
      "cell_type": "code",
      "execution_count": 508,
      "metadata": {
        "id": "-5ZlzOBHJ2ek"
      },
      "outputs": [],
      "source": [
        "def denoise(data):\n",
        "    # wavelet transform\n",
        "    coeffs = pywt.wavedec(data=data, wavelet='db5', level=9)\n",
        "    cA9, cD9, cD8, cD7, cD6, cD5, cD4, cD3, cD2, cD1 = coeffs\n",
        "\n",
        "    # Threshold denoising\n",
        "    threshold = (np.median(np.abs(cD1)) / 0.6745) * (np.sqrt(2 * np.log(len(cD1))))\n",
        "    cD1.fill(0)\n",
        "    cD2.fill(0)\n",
        "    for i in range(1, len(coeffs) - 2):\n",
        "        coeffs[i] = pywt.threshold(coeffs[i], threshold)\n",
        "\n",
        "    # Inverse wavelet transform to obtain the denoised signal\n",
        "    rdata = pywt.waverec(coeffs=coeffs, wavelet='db5')\n",
        "    return rdata"
      ]
    },
    {
      "cell_type": "markdown",
      "metadata": {
        "id": "XTn0J29DK2p0"
      },
      "source": [
        "### Loading MIT BIH Dataset"
      ]
    },
    {
      "cell_type": "code",
      "execution_count": 509,
      "metadata": {
        "id": "FEs6Y9d7I2tv"
      },
      "outputs": [],
      "source": [
        "# Read ECG signals and corresponding label\n",
        "def getDataSet_mit(number, X_data, Y_data):\n",
        "\n",
        "    # Considering 15 types ECG heartbeats that are later grouped in 5 classes\n",
        "    ecgClassSet_mit = ['N', 'L', 'R', 'e', 'j', 'A', 'a', 'J', 'S', 'V', 'E', 'F', '/', 'f', 'Q']\n",
        "\n",
        "    # Reading Channel names\n",
        "    _, info_mit = wfdb.io.rdsamp(osj_mitdb(DATA_ROOT_MITDB, number))\n",
        "    channels_mit = info_mit['sig_name']\n",
        "    channel1_mit, channel2_mit = channels_mit[0], channels_mit[1]\n",
        "    print(channel1_mit, channel2_mit)\n",
        "\n",
        "\n",
        "    # Read ECG data records\n",
        "    print(\"reading \" + number+ \" ECG data...\")\n",
        "    record_mit = wfdb.rdrecord(DATA_ROOT_MITDB + number, channel_names=[channel1_mit])\n",
        "    data_mit = record_mit.p_signal.flatten()\n",
        "    rdata_mit = denoise(data=data_mit)\n",
        "\n",
        "    # Obtain the position and corresponding label of the R wave in the ECG data record\n",
        "    annotation_mit = wfdb.rdann(DATA_ROOT_MITDB + number, 'atr')\n",
        "    Rlocation_mit = annotation_mit.sample\n",
        "    Rclass_mit = annotation_mit.symbol\n",
        "\n",
        "    # Unstable data before and after removal\n",
        "    start = 2  # if it creates problem then except will do the job\n",
        "    end = 3\n",
        "    i = start\n",
        "    j = len(annotation_mit.symbol) - end\n",
        "\n",
        "    # Making labels, Y_data Convert NSVFQ in order to 0123456...14\n",
        "    while i < j:\n",
        "        try:\n",
        "            beat_type_mit = Rclass_mit[i]\n",
        "            lable_mit = ecgClassSet_mit.index(beat_type_mit)  # when beat is like '+' or other it will go on except loop\n",
        "            x_train_mit = rdata_mit[Rlocation_mit[i] - 99:Rlocation_mit[i] + 201]\n",
        "            X_data.append(x_train_mit)\n",
        "            Y_data.append(lable_mit)\n",
        "            i += 1\n",
        "        except ValueError:\n",
        "            # print(f' when i = {i}, beat type is out of our choise. For example +, [, ! or other')\n",
        "            i += 1\n",
        "    return X_data, Y_data"
      ]
    },
    {
      "cell_type": "code",
      "execution_count": 510,
      "metadata": {
        "id": "ksd0aQq7JYVd"
      },
      "outputs": [],
      "source": [
        "# Load the dataset and preprocess it\n",
        "def loadData_mit():\n",
        "    numberSet_mit = patient_ids_mitdb\n",
        "    dataSet_mit = []\n",
        "    lableSet_mit = []\n",
        "    for n in numberSet_mit:\n",
        "        # getDataSet(n, dataSet, lableSet)\n",
        "        dataSet_mit, lableSet_mit = getDataSet_mit(str(n), dataSet_mit, lableSet_mit)\n",
        "\n",
        "    # Turn numpy array, scramble the order\n",
        "    dataSet_mit = np.array(dataSet_mit).reshape(-1, 300)\n",
        "    lableSet_mit = np.array(lableSet_mit).reshape(-1, 1)\n",
        "    train_ds_mit = np.hstack((dataSet_mit, lableSet_mit))\n",
        "    np.random.shuffle(train_ds_mit)\n",
        "\n",
        "    # dataset and its label set\n",
        "    X = train_ds_mit[:, :300]\n",
        "    Y = train_ds_mit[:, 300]\n",
        "    return X, Y"
      ]
    },
    {
      "cell_type": "code",
      "execution_count": 511,
      "metadata": {
        "colab": {
          "base_uri": "https://localhost:8080/"
        },
        "id": "i2heEUx4KBps",
        "outputId": "384bc3d2-984e-4c95-d8f3-f45390ce2818"
      },
      "outputs": [
        {
          "name": "stdout",
          "output_type": "stream",
          "text": [
            "MLII V5\n",
            "reading 100 ECG data...\n",
            "MLII V1\n",
            "reading 101 ECG data...\n",
            "V5 V2\n",
            "reading 102 ECG data...\n",
            "MLII V2\n",
            "reading 103 ECG data...\n",
            "V5 V2\n",
            "reading 104 ECG data...\n",
            "MLII V1\n",
            "reading 105 ECG data...\n",
            "MLII V1\n",
            "reading 106 ECG data...\n",
            "MLII V1\n",
            "reading 107 ECG data...\n",
            "MLII V1\n",
            "reading 108 ECG data...\n",
            "MLII V1\n",
            "reading 109 ECG data...\n",
            "MLII V1\n",
            "reading 111 ECG data...\n",
            "MLII V1\n",
            "reading 112 ECG data...\n",
            "MLII V1\n",
            "reading 113 ECG data...\n",
            "V5 MLII\n",
            "reading 114 ECG data...\n",
            "MLII V1\n",
            "reading 115 ECG data...\n",
            "MLII V1\n",
            "reading 116 ECG data...\n",
            "MLII V2\n",
            "reading 117 ECG data...\n",
            "MLII V1\n",
            "reading 118 ECG data...\n",
            "MLII V1\n",
            "reading 119 ECG data...\n",
            "MLII V1\n",
            "reading 121 ECG data...\n",
            "MLII V1\n",
            "reading 122 ECG data...\n",
            "MLII V5\n",
            "reading 123 ECG data...\n",
            "MLII V4\n",
            "reading 124 ECG data...\n",
            "MLII V1\n",
            "reading 200 ECG data...\n",
            "MLII V1\n",
            "reading 201 ECG data...\n",
            "MLII V1\n",
            "reading 202 ECG data...\n",
            "MLII V1\n",
            "reading 203 ECG data...\n",
            "MLII V1\n",
            "reading 205 ECG data...\n",
            "MLII V1\n",
            "reading 207 ECG data...\n",
            "MLII V1\n",
            "reading 208 ECG data...\n",
            "MLII V1\n",
            "reading 209 ECG data...\n",
            "MLII V1\n",
            "reading 210 ECG data...\n",
            "MLII V1\n",
            "reading 212 ECG data...\n",
            "MLII V1\n",
            "reading 213 ECG data...\n",
            "MLII V1\n",
            "reading 214 ECG data...\n",
            "MLII V1\n",
            "reading 215 ECG data...\n",
            "MLII V1\n",
            "reading 217 ECG data...\n",
            "MLII V1\n",
            "reading 219 ECG data...\n",
            "MLII V1\n",
            "reading 220 ECG data...\n",
            "MLII V1\n",
            "reading 221 ECG data...\n",
            "MLII V1\n",
            "reading 222 ECG data...\n",
            "MLII V1\n",
            "reading 223 ECG data...\n",
            "MLII V1\n",
            "reading 228 ECG data...\n",
            "MLII V1\n",
            "reading 230 ECG data...\n",
            "MLII V1\n",
            "reading 231 ECG data...\n",
            "MLII V1\n",
            "reading 232 ECG data...\n",
            "MLII V1\n",
            "reading 233 ECG data...\n",
            "MLII V1\n",
            "reading 234 ECG data...\n"
          ]
        }
      ],
      "source": [
        "X_mit, Y_mit = loadData_mit()"
      ]
    },
    {
      "cell_type": "markdown",
      "metadata": {
        "id": "F36NbHzQK6cu"
      },
      "source": [
        "### Loading INCART Dataset"
      ]
    },
    {
      "cell_type": "code",
      "execution_count": 512,
      "metadata": {
        "id": "nBjCyiF8K8KT"
      },
      "outputs": [],
      "source": [
        "from scipy.signal import resample_poly\n",
        "\n",
        "# Read ECG signals and corresponding label\n",
        "def getDataSet_incart(number, X_data, Y_data):\n",
        "\n",
        "    # Considering 15 types ECG heartbeats that are later grouped in 5 classes\n",
        "    ecgClassSet_incart = ['N', 'L', 'R', 'e', 'j', 'A', 'a', 'J', 'S', 'V', 'E', 'F', '/', 'f', 'Q']\n",
        "\n",
        "    # Reading Channel names\n",
        "    _, info_incart = wfdb.io.rdsamp(osj_mitdb(DATA_ROOT_INCART, number))\n",
        "    channels_incart = info_incart['sig_name']\n",
        "    channel1_incart, channel2_incart = channels_incart[1], channels_incart[6]\n",
        "    print(channel1_incart, channel2_incart)\n",
        "\n",
        "\n",
        "    # Read ECG data records\n",
        "    print(\"reading \" + number+ \" ECG data...\")\n",
        "    record_incart = wfdb.rdrecord(DATA_ROOT_INCART + number, channel_names=[channel1_incart])\n",
        "    data_incart = record_incart.p_signal.flatten()\n",
        "    rdata_incart = denoise(data=data_incart)\n",
        "    rdata_incart = resample_poly(rdata_incart, 257, 360)\n",
        "\n",
        "\n",
        "\n",
        "    # Obtain the position and corresponding label of the R wave in the ECG data record\n",
        "    annotation_incart = wfdb.rdann(DATA_ROOT_INCART + number, 'atr')\n",
        "    Rlocation_incart = annotation_incart.sample\n",
        "    Rclass_incart = annotation_incart.symbol\n",
        "\n",
        "    # Rescale R-peak locations to match resampled (360 Hz) signal\n",
        "    Rlocation_incart = np.round(Rlocation_incart * 360 / 257).astype(int)\n",
        "\n",
        "    # Unstable data before and after removal\n",
        "    start = 2  # if it creates problem then except will do the job\n",
        "    end = 3\n",
        "    i = start\n",
        "    j = len(annotation_incart.symbol) - end\n",
        "\n",
        "    # Making labels, Y_data Convert NSVFQ in order to 0123456...14\n",
        "    while i < j:\n",
        "        try:\n",
        "            beat_type_incart = Rclass_incart[i]\n",
        "            lable_incart = ecgClassSet_incart.index(beat_type_incart)  # when beat is like '+' or other it will go on except loop\n",
        "            x_train_incart = rdata_incart[Rlocation_incart[i] - 99:Rlocation_incart[i] + 201]\n",
        "            if len(x_train_incart) == 300:\n",
        "                X_data.append(x_train_incart)\n",
        "                Y_data.append(lable_incart)\n",
        "            i += 1\n",
        "        except ValueError:\n",
        "            # print(f' when i = {i}, beat type is out of our choise. For example +, [, ! or other')\n",
        "            i += 1\n",
        "    return X_data, Y_data"
      ]
    },
    {
      "cell_type": "code",
      "execution_count": 513,
      "metadata": {
        "id": "1o8R02pMLKoO"
      },
      "outputs": [],
      "source": [
        "# Load the dataset and preprocess it\n",
        "def loadData_incart():\n",
        "    numberSet_incart = patient_ids_incart\n",
        "\n",
        "    dataSet_incart = []\n",
        "    lableSet_incart = []\n",
        "    for n in numberSet_incart:\n",
        "        # getDataSet(n, dataSet, lableSet)\n",
        "        dataSet_incart, lableSet_incart = getDataSet_incart(n, dataSet_incart, lableSet_incart)\n",
        "\n",
        "    # Turn numpy array, scramble the order\n",
        "    dataSet_incart = np.array(dataSet_incart).reshape(-1, 300)\n",
        "    lableSet_incart = np.array(lableSet_incart).reshape(-1, 1)\n",
        "    train_ds_incart = np.hstack((dataSet_incart, lableSet_incart))\n",
        "    np.random.shuffle(train_ds_incart)\n",
        "\n",
        "    # dataset and its label set\n",
        "    X = train_ds_incart[:, :300]\n",
        "    Y = train_ds_incart[:, 300]\n",
        "    return X, Y"
      ]
    },
    {
      "cell_type": "code",
      "execution_count": 514,
      "metadata": {
        "colab": {
          "base_uri": "https://localhost:8080/"
        },
        "id": "PC0lL8s3Ldav",
        "outputId": "64920f3c-8122-4095-9a73-573825768338"
      },
      "outputs": [
        {
          "name": "stdout",
          "output_type": "stream",
          "text": [
            "II V1\n",
            "reading I01 ECG data...\n",
            "II V1\n",
            "reading I02 ECG data...\n",
            "II V1\n",
            "reading I03 ECG data...\n",
            "II V1\n",
            "reading I04 ECG data...\n",
            "II V1\n",
            "reading I05 ECG data...\n",
            "II V1\n",
            "reading I06 ECG data...\n",
            "II V1\n",
            "reading I07 ECG data...\n",
            "II V1\n",
            "reading I08 ECG data...\n",
            "II V1\n",
            "reading I09 ECG data...\n",
            "II V1\n",
            "reading I10 ECG data...\n",
            "II V1\n",
            "reading I11 ECG data...\n",
            "II V1\n",
            "reading I12 ECG data...\n",
            "II V1\n",
            "reading I13 ECG data...\n",
            "II V1\n",
            "reading I14 ECG data...\n",
            "II V1\n",
            "reading I15 ECG data...\n",
            "II V1\n",
            "reading I16 ECG data...\n",
            "II V1\n",
            "reading I17 ECG data...\n",
            "II V1\n",
            "reading I18 ECG data...\n",
            "II V1\n",
            "reading I19 ECG data...\n",
            "II V1\n",
            "reading I20 ECG data...\n",
            "II V1\n",
            "reading I21 ECG data...\n",
            "II V1\n",
            "reading I22 ECG data...\n",
            "II V1\n",
            "reading I23 ECG data...\n",
            "II V1\n",
            "reading I24 ECG data...\n",
            "II V1\n",
            "reading I25 ECG data...\n",
            "II V1\n",
            "reading I26 ECG data...\n",
            "II V1\n",
            "reading I27 ECG data...\n",
            "II V1\n",
            "reading I28 ECG data...\n",
            "II V1\n",
            "reading I29 ECG data...\n",
            "II V1\n",
            "reading I30 ECG data...\n",
            "II V1\n",
            "reading I31 ECG data...\n",
            "II V1\n",
            "reading I32 ECG data...\n",
            "II V1\n",
            "reading I33 ECG data...\n",
            "II V1\n",
            "reading I34 ECG data...\n",
            "II V1\n",
            "reading I35 ECG data...\n",
            "II V1\n",
            "reading I36 ECG data...\n",
            "II V1\n",
            "reading I37 ECG data...\n",
            "II V1\n",
            "reading I38 ECG data...\n",
            "II V1\n",
            "reading I39 ECG data...\n",
            "II V1\n",
            "reading I40 ECG data...\n",
            "II V1\n",
            "reading I41 ECG data...\n",
            "II V1\n",
            "reading I42 ECG data...\n",
            "II V1\n",
            "reading I43 ECG data...\n",
            "II V1\n",
            "reading I44 ECG data...\n",
            "II V1\n",
            "reading I45 ECG data...\n",
            "II V1\n",
            "reading I46 ECG data...\n",
            "II V1\n",
            "reading I47 ECG data...\n",
            "II V1\n",
            "reading I48 ECG data...\n",
            "II V1\n",
            "reading I49 ECG data...\n",
            "II V1\n",
            "reading I50 ECG data...\n",
            "II V1\n",
            "reading I51 ECG data...\n",
            "II V1\n",
            "reading I52 ECG data...\n",
            "II V1\n",
            "reading I53 ECG data...\n",
            "II V1\n",
            "reading I54 ECG data...\n",
            "II V1\n",
            "reading I55 ECG data...\n",
            "II V1\n",
            "reading I56 ECG data...\n",
            "II V1\n",
            "reading I57 ECG data...\n",
            "II V1\n",
            "reading I58 ECG data...\n",
            "II V1\n",
            "reading I59 ECG data...\n",
            "II V1\n",
            "reading I60 ECG data...\n",
            "II V1\n",
            "reading I61 ECG data...\n",
            "II V1\n",
            "reading I62 ECG data...\n",
            "II V1\n",
            "reading I63 ECG data...\n",
            "II V1\n",
            "reading I64 ECG data...\n",
            "II V1\n",
            "reading I65 ECG data...\n",
            "II V1\n",
            "reading I66 ECG data...\n",
            "II V1\n",
            "reading I67 ECG data...\n",
            "II V1\n",
            "reading I68 ECG data...\n",
            "II V1\n",
            "reading I69 ECG data...\n",
            "II V1\n",
            "reading I70 ECG data...\n",
            "II V1\n",
            "reading I71 ECG data...\n",
            "II V1\n",
            "reading I72 ECG data...\n",
            "II V1\n",
            "reading I73 ECG data...\n",
            "II V1\n",
            "reading I74 ECG data...\n",
            "II V1\n",
            "reading I75 ECG data...\n"
          ]
        }
      ],
      "source": [
        "X_incart, Y_incart = loadData_incart()"
      ]
    },
    {
      "cell_type": "code",
      "execution_count": 515,
      "metadata": {
        "colab": {
          "base_uri": "https://localhost:8080/"
        },
        "id": "PS0ZNrusNsBx",
        "outputId": "3f798609-4d7c-4176-cee7-f30be34fba5f"
      },
      "outputs": [
        {
          "name": "stdout",
          "output_type": "stream",
          "text": [
            "MLII V5\n",
            "reading 100 ECG data...\n",
            "MLII V1\n",
            "reading 101 ECG data...\n",
            "V5 V2\n",
            "reading 102 ECG data...\n",
            "MLII V2\n",
            "reading 103 ECG data...\n",
            "V5 V2\n",
            "reading 104 ECG data...\n",
            "MLII V1\n",
            "reading 105 ECG data...\n",
            "MLII V1\n",
            "reading 106 ECG data...\n",
            "MLII V1\n",
            "reading 107 ECG data...\n",
            "MLII V1\n",
            "reading 108 ECG data...\n",
            "MLII V1\n",
            "reading 109 ECG data...\n",
            "MLII V1\n",
            "reading 111 ECG data...\n",
            "MLII V1\n",
            "reading 112 ECG data...\n",
            "MLII V1\n",
            "reading 113 ECG data...\n",
            "V5 MLII\n",
            "reading 114 ECG data...\n",
            "MLII V1\n",
            "reading 115 ECG data...\n",
            "MLII V1\n",
            "reading 116 ECG data...\n",
            "MLII V2\n",
            "reading 117 ECG data...\n",
            "MLII V1\n",
            "reading 118 ECG data...\n",
            "MLII V1\n",
            "reading 119 ECG data...\n",
            "MLII V1\n",
            "reading 121 ECG data...\n",
            "MLII V1\n",
            "reading 122 ECG data...\n",
            "MLII V5\n",
            "reading 123 ECG data...\n",
            "MLII V4\n",
            "reading 124 ECG data...\n",
            "MLII V1\n",
            "reading 200 ECG data...\n",
            "MLII V1\n",
            "reading 201 ECG data...\n",
            "MLII V1\n",
            "reading 202 ECG data...\n",
            "MLII V1\n",
            "reading 203 ECG data...\n",
            "MLII V1\n",
            "reading 205 ECG data...\n",
            "MLII V1\n",
            "reading 207 ECG data...\n",
            "MLII V1\n",
            "reading 208 ECG data...\n",
            "MLII V1\n",
            "reading 209 ECG data...\n",
            "MLII V1\n",
            "reading 210 ECG data...\n",
            "MLII V1\n",
            "reading 212 ECG data...\n",
            "MLII V1\n",
            "reading 213 ECG data...\n",
            "MLII V1\n",
            "reading 214 ECG data...\n",
            "MLII V1\n",
            "reading 215 ECG data...\n",
            "MLII V1\n",
            "reading 217 ECG data...\n",
            "MLII V1\n",
            "reading 219 ECG data...\n",
            "MLII V1\n",
            "reading 220 ECG data...\n",
            "MLII V1\n",
            "reading 221 ECG data...\n",
            "MLII V1\n",
            "reading 222 ECG data...\n",
            "MLII V1\n",
            "reading 223 ECG data...\n",
            "MLII V1\n",
            "reading 228 ECG data...\n",
            "MLII V1\n",
            "reading 230 ECG data...\n",
            "MLII V1\n",
            "reading 231 ECG data...\n",
            "MLII V1\n",
            "reading 232 ECG data...\n",
            "MLII V1\n",
            "reading 233 ECG data...\n",
            "MLII V1\n",
            "reading 234 ECG data...\n",
            "II V1\n",
            "reading I01 ECG data...\n",
            "II V1\n",
            "reading I02 ECG data...\n",
            "II V1\n",
            "reading I03 ECG data...\n",
            "II V1\n",
            "reading I04 ECG data...\n",
            "II V1\n",
            "reading I05 ECG data...\n",
            "II V1\n",
            "reading I06 ECG data...\n",
            "II V1\n",
            "reading I07 ECG data...\n",
            "II V1\n",
            "reading I08 ECG data...\n",
            "II V1\n",
            "reading I09 ECG data...\n",
            "II V1\n",
            "reading I10 ECG data...\n",
            "II V1\n",
            "reading I11 ECG data...\n",
            "II V1\n",
            "reading I12 ECG data...\n",
            "II V1\n",
            "reading I13 ECG data...\n",
            "II V1\n",
            "reading I14 ECG data...\n",
            "II V1\n",
            "reading I15 ECG data...\n",
            "II V1\n",
            "reading I16 ECG data...\n",
            "II V1\n",
            "reading I17 ECG data...\n",
            "II V1\n",
            "reading I18 ECG data...\n",
            "II V1\n",
            "reading I19 ECG data...\n",
            "II V1\n",
            "reading I20 ECG data...\n",
            "II V1\n",
            "reading I21 ECG data...\n",
            "II V1\n",
            "reading I22 ECG data...\n",
            "II V1\n",
            "reading I23 ECG data...\n",
            "II V1\n",
            "reading I24 ECG data...\n",
            "II V1\n",
            "reading I25 ECG data...\n",
            "II V1\n",
            "reading I26 ECG data...\n",
            "II V1\n",
            "reading I27 ECG data...\n",
            "II V1\n",
            "reading I28 ECG data...\n",
            "II V1\n",
            "reading I29 ECG data...\n",
            "II V1\n",
            "reading I30 ECG data...\n",
            "II V1\n",
            "reading I31 ECG data...\n",
            "II V1\n",
            "reading I32 ECG data...\n",
            "II V1\n",
            "reading I33 ECG data...\n",
            "II V1\n",
            "reading I34 ECG data...\n",
            "II V1\n",
            "reading I35 ECG data...\n",
            "II V1\n",
            "reading I36 ECG data...\n",
            "II V1\n",
            "reading I37 ECG data...\n",
            "II V1\n",
            "reading I38 ECG data...\n",
            "II V1\n",
            "reading I39 ECG data...\n",
            "II V1\n",
            "reading I40 ECG data...\n",
            "II V1\n",
            "reading I41 ECG data...\n",
            "II V1\n",
            "reading I42 ECG data...\n",
            "II V1\n",
            "reading I43 ECG data...\n",
            "II V1\n",
            "reading I44 ECG data...\n",
            "II V1\n",
            "reading I45 ECG data...\n",
            "II V1\n",
            "reading I46 ECG data...\n",
            "II V1\n",
            "reading I47 ECG data...\n",
            "II V1\n",
            "reading I48 ECG data...\n",
            "II V1\n",
            "reading I49 ECG data...\n",
            "II V1\n",
            "reading I50 ECG data...\n",
            "II V1\n",
            "reading I51 ECG data...\n",
            "II V1\n",
            "reading I52 ECG data...\n",
            "II V1\n",
            "reading I53 ECG data...\n",
            "II V1\n",
            "reading I54 ECG data...\n",
            "II V1\n",
            "reading I55 ECG data...\n",
            "II V1\n",
            "reading I56 ECG data...\n",
            "II V1\n",
            "reading I57 ECG data...\n",
            "II V1\n",
            "reading I58 ECG data...\n",
            "II V1\n",
            "reading I59 ECG data...\n",
            "II V1\n",
            "reading I60 ECG data...\n",
            "II V1\n",
            "reading I61 ECG data...\n",
            "II V1\n",
            "reading I62 ECG data...\n",
            "II V1\n",
            "reading I63 ECG data...\n",
            "II V1\n",
            "reading I64 ECG data...\n",
            "II V1\n",
            "reading I65 ECG data...\n",
            "II V1\n",
            "reading I66 ECG data...\n",
            "II V1\n",
            "reading I67 ECG data...\n",
            "II V1\n",
            "reading I68 ECG data...\n",
            "II V1\n",
            "reading I69 ECG data...\n",
            "II V1\n",
            "reading I70 ECG data...\n",
            "II V1\n",
            "reading I71 ECG data...\n",
            "II V1\n",
            "reading I72 ECG data...\n",
            "II V1\n",
            "reading I73 ECG data...\n",
            "II V1\n",
            "reading I74 ECG data...\n",
            "II V1\n",
            "reading I75 ECG data...\n"
          ]
        }
      ],
      "source": [
        "train_ds_mit = loadData_mit()\n",
        "train_ds_incart = loadData_incart()"
      ]
    },
    {
      "cell_type": "markdown",
      "metadata": {
        "id": "iYlJxLjpM7dM"
      },
      "source": [
        "# 3. Assigning Appropriate Class Labels"
      ]
    },
    {
      "cell_type": "markdown",
      "metadata": {
        "id": "MsjGNd0CN2up"
      },
      "source": [
        "### MIT-BIH"
      ]
    },
    {
      "cell_type": "code",
      "execution_count": 516,
      "metadata": {
        "colab": {
          "base_uri": "https://localhost:8080/"
        },
        "id": "oiIXGOf8NFME",
        "outputId": "85769422-3bf6-4b4c-ba8f-0ded6f4ea39b"
      },
      "outputs": [
        {
          "name": "stdout",
          "output_type": "stream",
          "text": [
            "MIT-BIH 5 Class Mapping Done\n"
          ]
        }
      ],
      "source": [
        "# 15 level to 5 level conversion\n",
        "Y_5classmit = np.copy(Y_mit)\n",
        "\n",
        "for i in range(Y_mit.shape[0]):\n",
        "  # print(i)\n",
        "  if 0 <= Y_mit[i] <= 4:\n",
        "    Y_5classmit[i] = 0\n",
        "  if 5 <= Y_mit[i] <= 8:\n",
        "    Y_5classmit[i] = 1\n",
        "  if 9 <= Y_mit[i] <= 10:\n",
        "    Y_5classmit[i] = 2\n",
        "  if Y_mit[i] == 11:\n",
        "    Y_5classmit[i] = 3\n",
        "  if 12 <= Y_mit[i] <= 14:\n",
        "    Y_5classmit[i] = 4\n",
        "\n",
        "print('MIT-BIH 5 Class Mapping Done')"
      ]
    },
    {
      "cell_type": "code",
      "execution_count": 517,
      "metadata": {
        "id": "BRgae_vCPKx7"
      },
      "outputs": [],
      "source": [
        "from sklearn.preprocessing import LabelEncoder\n",
        "Y_5class = LabelEncoder().fit_transform(Y_5classmit)"
      ]
    },
    {
      "cell_type": "code",
      "execution_count": 518,
      "metadata": {
        "id": "yA5cG-S-OCYe"
      },
      "outputs": [],
      "source": [
        "ecg_data_mit = X_mit[:, :300]\n",
        "ecg_label_mit = Y_5classmit.reshape(-1, 1)"
      ]
    },
    {
      "cell_type": "code",
      "execution_count": 519,
      "metadata": {
        "id": "wx_scBcRPVUQ"
      },
      "outputs": [],
      "source": [
        "# Complete ECG dataset with 5 type of Arrhythmia\n",
        "ecg_dataset_5 = np.hstack((ecg_data_mit, ecg_label_mit))"
      ]
    },
    {
      "cell_type": "code",
      "execution_count": 520,
      "metadata": {
        "id": "z5450XRzPmbC"
      },
      "outputs": [],
      "source": [
        "# Keep only N, S, V classes (labels 0, 1, 2)\n",
        "ecg_data_mit = ecg_dataset_5[:, :300]\n",
        "ecg_label_mit = ecg_dataset_5[:, 300]\n",
        "selected_indices = np.where((ecg_label_mit == 0) | (ecg_label_mit == 1) | (ecg_label_mit == 2))[0]\n",
        "\n",
        "ecg_data_mit = ecg_data_mit[selected_indices]\n",
        "ecg_label_mit = ecg_label_mit[selected_indices]\n",
        "\n",
        "ecg_dataset_5 = np.hstack((ecg_data_mit, ecg_label_mit.reshape(-1, 1)))"
      ]
    },
    {
      "cell_type": "markdown",
      "metadata": {
        "id": "d8-32YcrPpIv"
      },
      "source": [
        "### INCART"
      ]
    },
    {
      "cell_type": "code",
      "execution_count": 521,
      "metadata": {
        "colab": {
          "base_uri": "https://localhost:8080/"
        },
        "id": "HZoARrnlPqYQ",
        "outputId": "6c0002e0-96bb-4844-88b3-099fd9e61f22"
      },
      "outputs": [
        {
          "name": "stdout",
          "output_type": "stream",
          "text": [
            "INCART 5 Class Mapping Done\n"
          ]
        }
      ],
      "source": [
        "incart_mapping = {\n",
        "    0: 'N', 1: 'L', 2: 'R', 3: 'e', 4: 'j',   # Map to AAMI class 0 (Normal)\n",
        "    5: 'A', 6: 'a', 7: 'J', 8: 'S',           # Map to AAMI class 1 (Supraventricular)\n",
        "    9: 'V', 10: 'r',                          # Map to AAMI class 2 (Ventricular)\n",
        "    11: 'F',                                 # Map to AAMI class 3 (Fusion)\n",
        "    12: 'P', 13: 'Q', 14: 'f', 15: '/',       # Map to AAMI class 4 (Unknown)\n",
        "}\n",
        "\n",
        "Y_5classincart = np.copy(Y_incart)\n",
        "\n",
        "for i in range(Y_incart.shape[0]):\n",
        "    label = incart_mapping[Y_incart[i]]\n",
        "    if label in ['N', 'L', 'R', 'e', 'j']:\n",
        "        Y_5classincart[i] = 0\n",
        "    elif label in ['A', 'a', 'J', 'S']:\n",
        "        Y_5classincart[i] = 1\n",
        "    elif label in ['V', 'r']:\n",
        "        Y_5classincart[i] = 2\n",
        "    elif label == 'F':\n",
        "        Y_5classincart[i] = 3\n",
        "    elif label in ['P', 'Q', 'f', '/']:\n",
        "        Y_5classincart[i] = 4\n",
        "\n",
        "print('INCART 5 Class Mapping Done')"
      ]
    },
    {
      "cell_type": "code",
      "execution_count": 522,
      "metadata": {
        "colab": {
          "base_uri": "https://localhost:8080/"
        },
        "id": "oqidEZZ_0LaY",
        "outputId": "9d2e7d54-7408-4429-cb8a-fb207e401e2d"
      },
      "outputs": [
        {
          "data": {
            "text/plain": [
              "Counter({0.0: 77901, 2.0: 10439, 1.0: 949, 3.0: 119, 4.0: 5})"
            ]
          },
          "execution_count": 522,
          "metadata": {},
          "output_type": "execute_result"
        }
      ],
      "source": [
        "from collections import Counter\n",
        "\n",
        "Y_5class_list = list(Y_5classincart)\n",
        "Counter(Y_5class_list)"
      ]
    },
    {
      "cell_type": "code",
      "execution_count": 523,
      "metadata": {
        "id": "cJD9kGXu0LaY"
      },
      "outputs": [],
      "source": [
        "# label encode the target variable # just convert numpy.float64 to numpy.int64\n",
        "from sklearn.preprocessing import LabelEncoder\n",
        "Y_3class = LabelEncoder().fit_transform(Y_5classincart)"
      ]
    },
    {
      "cell_type": "code",
      "execution_count": 524,
      "metadata": {
        "id": "qVr1FHqC0LaY"
      },
      "outputs": [],
      "source": [
        "ecg_data_incart = X_incart[:, :300]\n",
        "ecg_label_incart = Y_5classincart.reshape(-1, 1) # otherwise np.hstack will not work"
      ]
    },
    {
      "cell_type": "code",
      "execution_count": 525,
      "metadata": {
        "id": "OQI44F4-0LaY"
      },
      "outputs": [],
      "source": [
        "# Complete ECG dataset with 5 type of Arrhythmia\n",
        "ecg_dataset_3 = np.hstack((ecg_data_incart, ecg_label_incart))"
      ]
    },
    {
      "cell_type": "code",
      "execution_count": 526,
      "metadata": {
        "colab": {
          "base_uri": "https://localhost:8080/"
        },
        "id": "tLsLuooadGYJ",
        "outputId": "890e5ee0-d426-44f7-fb97-d5f53db89cb9"
      },
      "outputs": [
        {
          "name": "stdout",
          "output_type": "stream",
          "text": [
            "89413\n"
          ]
        }
      ],
      "source": [
        "# Keep only N, S, V classes (labels 0, 1, 2)\n",
        "\n",
        "ecg_data_incart = ecg_dataset_3[:, :300]\n",
        "ecg_label_incart = ecg_dataset_3[:, 300]\n",
        "selected_indices = np.where((ecg_label_incart == 0) | (ecg_label_incart == 1) | (ecg_label_incart == 2))[0]\n",
        "\n",
        "print(len(ecg_data_incart))\n",
        "\n",
        "ecg_data_incart = ecg_data_incart[selected_indices]\n",
        "ecg_label_incart = ecg_label_incart[selected_indices]\n",
        "\n",
        "ecg_dataset_3 = np.hstack((ecg_data_incart, ecg_label_incart.reshape(-1, 1)))"
      ]
    },
    {
      "cell_type": "markdown",
      "metadata": {
        "id": "ijCUXaM9SF8X"
      },
      "source": [
        "## Per Class Amount Checking"
      ]
    },
    {
      "cell_type": "code",
      "execution_count": 527,
      "metadata": {
        "colab": {
          "base_uri": "https://localhost:8080/",
          "height": 210
        },
        "id": "QOjQ7APrSIvj",
        "outputId": "fb58afef-2119-440c-d110-f1728ecbffde"
      },
      "outputs": [
        {
          "data": {
            "text/plain": [
              "300\n",
              "0.0    90472\n",
              "2.0     7229\n",
              "1.0     2775\n",
              "Name: count, dtype: int64"
            ]
          },
          "execution_count": 527,
          "metadata": {},
          "output_type": "execute_result"
        }
      ],
      "source": [
        "# Convert ndarray to dataframe\n",
        "df_ecg_mit = pd.DataFrame(ecg_dataset_5)\n",
        "class_data_mit = df_ecg_mit[300].value_counts()\n",
        "class_data_mit"
      ]
    },
    {
      "cell_type": "code",
      "execution_count": 528,
      "metadata": {
        "colab": {
          "base_uri": "https://localhost:8080/",
          "height": 430
        },
        "id": "q098D1w8SJLU",
        "outputId": "b22e741d-828f-472b-90ce-374e81e99532"
      },
      "outputs": [
        {
          "data": {
            "image/png": "[encoded data removed]",
            "text/plain": [
              "<Figure size 640x480 with 1 Axes>"
            ]
          },
          "metadata": {},
          "output_type": "display_data"
        }
      ],
      "source": [
        "plt.bar(class_data_mit.index, class_data_mit.values, color ='maroon')\n",
        "plt.show()"
      ]
    },
    {
      "cell_type": "code",
      "execution_count": 529,
      "metadata": {
        "colab": {
          "base_uri": "https://localhost:8080/",
          "height": 210
        },
        "id": "_UmaoIkMSLuy",
        "outputId": "f6eda6de-b4b4-4700-db99-caf8ded0355d"
      },
      "outputs": [
        {
          "data": {
            "text/plain": [
              "300\n",
              "0.0    77901\n",
              "2.0    10439\n",
              "1.0      949\n",
              "Name: count, dtype: int64"
            ]
          },
          "execution_count": 529,
          "metadata": {},
          "output_type": "execute_result"
        }
      ],
      "source": [
        "# Convert ndarray to dataframe\n",
        "df_ecg_incart = pd.DataFrame(ecg_dataset_3)\n",
        "class_data_incart = df_ecg_incart[300].value_counts()\n",
        "class_data_incart"
      ]
    },
    {
      "cell_type": "code",
      "execution_count": 530,
      "metadata": {
        "colab": {
          "base_uri": "https://localhost:8080/",
          "height": 430
        },
        "id": "c7J0fVgOSPNH",
        "outputId": "3500bc4c-2959-4a3a-d6a4-46c40bd0109b"
      },
      "outputs": [
        {
          "data": {
            "image/png": "[encoded data removed]",
            "text/plain": [
              "<Figure size 640x480 with 1 Axes>"
            ]
          },
          "metadata": {},
          "output_type": "display_data"
        }
      ],
      "source": [
        "plt.bar(class_data_incart.index, class_data_incart.values, color ='maroon')\n",
        "plt.show()"
      ]
    },
    {
      "cell_type": "markdown",
      "metadata": {
        "id": "3JSy9qOuXvpG"
      },
      "source": [
        "## **D2: Train-Test Spliting**\n",
        "**Note: Class Balance should be done on Training Data Only. Not Testing Data.**"
      ]
    },
    {
      "cell_type": "code",
      "execution_count": 531,
      "metadata": {
        "id": "G6495sxJNznB"
      },
      "outputs": [],
      "source": [
        "# train test splitting\n",
        "from sklearn.model_selection import train_test_split\n",
        "ecg_data_mit = ecg_dataset_5[:, :300]\n",
        "ecg_label_mit = ecg_dataset_5[:, 300]\n",
        "x_train_mit, x_test_mit, y_train_mit, y_test_mit = train_test_split(ecg_data_mit, ecg_label_mit,\n",
        "                                   random_state=104,\n",
        "                                   test_size=0.20,\n",
        "                                   shuffle=True)"
      ]
    },
    {
      "cell_type": "code",
      "execution_count": 532,
      "metadata": {
        "id": "xFpgeFmHPMX6"
      },
      "outputs": [],
      "source": [
        "# reshaping for using hstack function\n",
        "y_train_mit = y_train_mit.reshape(-1, 1)\n",
        "y_test_mit = y_test_mit.reshape(-1, 1)\n",
        "train_data_mit = np.hstack((x_train_mit, y_train_mit))\n",
        "test_data_mit = np.hstack((x_test_mit, y_test_mit))"
      ]
    },
    {
      "cell_type": "code",
      "execution_count": 533,
      "metadata": {
        "id": "L7U9e5f7Tpn-"
      },
      "outputs": [],
      "source": [
        "#  converting dataframe\n",
        "train_data_mit = pd.DataFrame(train_data_mit)\n",
        "test_data_mit = pd.DataFrame(test_data_mit)"
      ]
    },
    {
      "cell_type": "code",
      "execution_count": 534,
      "metadata": {
        "id": "CaFFSmnlZiv2"
      },
      "outputs": [],
      "source": [
        "# saving the test data (in imbalanced condition)\n",
        "file_name_mit = DATA_ROOT_MITDB + 'test_data_mit.pkl'\n",
        "test_data_mit.to_pickle(file_name_mit)"
      ]
    },
    {
      "cell_type": "code",
      "execution_count": 535,
      "metadata": {
        "colab": {
          "base_uri": "https://localhost:8080/",
          "height": 519
        },
        "id": "IFJbfVFin_65",
        "outputId": "13a3d2b4-5288-4de3-a16e-3c871232c6bd"
      },
      "outputs": [
        {
          "name": "stdout",
          "output_type": "stream",
          "text": [
            "300\n",
            "0.0    72395\n",
            "2.0     5751\n",
            "1.0     2234\n",
            "Name: count, dtype: int64\n"
          ]
        },
        {
          "data": {
            "image/png": "[encoded data removed]",
            "text/plain": [
              "<Figure size 640x480 with 1 Axes>"
            ]
          },
          "metadata": {},
          "output_type": "display_data"
        }
      ],
      "source": [
        "# Imblanced training data graph ploting\n",
        "class_data_mit = train_data_mit[300].value_counts()\n",
        "print(class_data_mit)\n",
        "plt.bar(class_data_mit.index, class_data_mit.values, color ='maroon')\n",
        "plt.show()"
      ]
    },
    {
      "cell_type": "markdown",
      "metadata": {
        "id": "4efty9pB1VgL"
      },
      "source": [
        "## **D3: Class balancing by undersampling and SMOTE**\n",
        "**SMOTE** stands for '**Synthetic Minority Oversampling Technique**'.\n",
        "Plan for train data\n",
        "1. Class 1: Randomly selected 50000 data\n",
        "2. Class 1, 2, 3, 4: Use SMOTE to oversample upto 50000 data"
      ]
    },
    {
      "cell_type": "code",
      "execution_count": 536,
      "metadata": {
        "id": "p4WqB_4LL1mT"
      },
      "outputs": [],
      "source": [
        "# extracting class 0 and 4 others class\n",
        "train_data_0_mit = train_data_mit.loc[(train_data_mit[300] == 0)]\n",
        "train_data_1234_mit = train_data_mit.loc[(train_data_mit[300] != 0)]"
      ]
    },
    {
      "cell_type": "code",
      "execution_count": 537,
      "metadata": {
        "id": "TUHRu8BmL1mT"
      },
      "outputs": [],
      "source": [
        "# 1. Class 1: Randomly selected 50000 data\n",
        "from sklearn.utils import resample\n",
        "train_data_0_resampled_mit=train_data_0_mit.sample(n=50000,random_state=42)\n",
        "\n",
        "# convert dataframe to numpy array\n",
        "train_data_0_resampled_mit = train_data_0_resampled_mit.to_numpy()"
      ]
    },
    {
      "cell_type": "code",
      "execution_count": 538,
      "metadata": {
        "id": "yx9olryxL1mT"
      },
      "outputs": [],
      "source": [
        "# 2. Class 1, 2, 3, 4: Use SMOTE to oversample upto 50000 data\n",
        "\n",
        "# converting from df to np ndarray\n",
        "train_data_1234_arr_mit = train_data_1234_mit.to_numpy()\n",
        "X_4cl_mit, y_4cl_mit = train_data_1234_arr_mit[:, :-1], train_data_1234_arr_mit[:, -1]\n",
        "\n",
        "from imblearn.over_sampling import SMOTE\n",
        "# transform the dataset\n",
        "strategy_mit = {1:50000, 2:50000}\n",
        "oversample_mit = SMOTE(sampling_strategy=strategy_mit)\n",
        "X_4cl_mit = X_4cl_mit.astype('float32')\n",
        "\n",
        "X_mit, y_mit = oversample_mit.fit_resample(X_4cl_mit, y_4cl_mit)\n",
        "\n",
        "y_mit = y_mit.reshape(-1, 1)\n",
        "train_data_1234_resampled_mit = np.hstack((X_mit, y_mit))"
      ]
    },
    {
      "cell_type": "code",
      "execution_count": 539,
      "metadata": {
        "colab": {
          "base_uri": "https://localhost:8080/"
        },
        "id": "0ngjIYB5L1mT",
        "outputId": "1bea1bc0-4cf1-41df-e8fc-79e81f7072d1"
      },
      "outputs": [
        {
          "data": {
            "text/plain": [
              "array([[ 0.04745115,  0.04931939,  0.05266269, ...,  0.06316136,\n",
              "         0.04525864,  1.        ],\n",
              "       [-0.24640612, -0.23378557, -0.22131242, ..., -0.14152323,\n",
              "        -0.13874851,  2.        ],\n",
              "       [-0.23025615, -0.24071693, -0.24970242, ..., -0.94867009,\n",
              "        -0.9813111 ,  0.        ],\n",
              "       ...,\n",
              "       [ 0.02439837,  0.03729027,  0.04865664, ..., -0.34666866,\n",
              "        -0.34629142,  1.        ],\n",
              "       [-0.34741339, -0.3492496 , -0.36110535, ..., -0.91390312,\n",
              "        -0.92975992,  2.        ],\n",
              "       [-0.15748532, -0.15291713, -0.14699709, ..., -0.10484847,\n",
              "        -0.0795958 ,  1.        ]])"
            ]
          },
          "execution_count": 539,
          "metadata": {},
          "output_type": "execute_result"
        }
      ],
      "source": [
        "# Join the class 0 and 1234\n",
        "train_data_resampled_mit = np.vstack((train_data_0_resampled_mit, train_data_1234_resampled_mit))\n",
        "\n",
        "# shuffle the data, needed for proper training\n",
        "np.take(train_data_resampled_mit,np.random.permutation(train_data_resampled_mit.shape[0]),axis=0,out=train_data_resampled_mit)"
      ]
    },
    {
      "cell_type": "code",
      "execution_count": 540,
      "metadata": {
        "colab": {
          "base_uri": "https://localhost:8080/",
          "height": 519
        },
        "id": "whSckTLOL1mT",
        "outputId": "8a58ba0c-759f-4d85-8899-1add9c7f37ee"
      },
      "outputs": [
        {
          "name": "stdout",
          "output_type": "stream",
          "text": [
            "300\n",
            "1.0    50000\n",
            "2.0    50000\n",
            "0.0    50000\n",
            "Name: count, dtype: int64\n"
          ]
        },
        {
          "data": {
            "image/png": "[encoded data removed]",
            "text/plain": [
              "<Figure size 640x480 with 1 Axes>"
            ]
          },
          "metadata": {},
          "output_type": "display_data"
        }
      ],
      "source": [
        "# blanced training data graph ploting\n",
        "train_data_r_mit = pd.DataFrame(train_data_resampled_mit)\n",
        "class_data_mit = train_data_r_mit[300].value_counts()\n",
        "print(class_data_mit)\n",
        "plt.bar(class_data_mit.index, class_data_mit.values, color ='maroon')\n",
        "plt.show()\n",
        "\n",
        "# save balanced training data\n",
        "file_name = DATA_ROOT_MITDB + 'train_data_SMOTE_mit.pkl'\n",
        "train_data_r_mit.to_pickle(file_name)"
      ]
    },
    {
      "cell_type": "code",
      "execution_count": 541,
      "metadata": {
        "id": "APN1vYqG51_1"
      },
      "outputs": [],
      "source": [
        "data_bal_mit = np.array(class_data_mit)\n",
        "data_bal2_mit = data_bal_mit.reshape(1, 3)"
      ]
    },
    {
      "cell_type": "code",
      "execution_count": 542,
      "metadata": {
        "colab": {
          "base_uri": "https://localhost:8080/",
          "height": 815
        },
        "id": "8vVmTOMq2ePQ",
        "outputId": "1b265ffb-2515-486b-85b7-7040e481e91b"
      },
      "outputs": [
        {
          "data": {
            "image/png": "[encoded data removed]",
            "text/plain": [
              "<Figure size 4200x2400 with 2 Axes>"
            ]
          },
          "metadata": {},
          "output_type": "display_data"
        }
      ],
      "source": [
        "# a single plot which gives proper illustration before and after class balancing\n",
        "import seaborn as sns\n",
        "sns.set()\n",
        "sns.color_palette(\"hls\", 8)\n",
        "\n",
        "fig = plt.figure(figsize=(7,4), dpi=600)\n",
        "plt.subplot(121)\n",
        "sns.barplot(x = ['N', 'S', 'V'], y = [72420, 2212, 5774])\n",
        "plt.ylim(0, 75000)\n",
        "plt.title('Training Data, Imbalanced')\n",
        "\n",
        "plt.subplot(122)\n",
        "sns.barplot(x = ['N', 'S', 'V'], y = class_data_mit.values)\n",
        "plt.ylim(0, 75000)\n",
        "plt.title('Balanced by SMOTE')\n",
        "\n",
        "plt.subplots_adjust(left=0.1,\n",
        "                    bottom=0.1,\n",
        "                    right=0.9,\n",
        "                    top=0.9,\n",
        "                    wspace=0.4,\n",
        "                    hspace=0.5)\n",
        "\n"
      ]
    },
    {
      "cell_type": "code",
      "execution_count": 543,
      "metadata": {},
      "outputs": [
        {
          "data": {
            "text/plain": [
              "array([[ 0.10247452,  0.10293173,  0.10338781, ...,  0.20902504,\n",
              "         0.20953012,  0.        ],\n",
              "       [ 2.51132367,  2.51718075,  2.52393146, ...,  2.42314636,\n",
              "         2.42517007,  0.        ],\n",
              "       [-1.18335577, -1.16869966, -1.15361553, ..., -0.84082512,\n",
              "        -0.85598734,  0.        ],\n",
              "       ...,\n",
              "       [-2.53124555, -2.51436955, -2.4972058 , ..., -2.57513311,\n",
              "        -2.55460875,  0.        ],\n",
              "       [ 4.11334702,  4.14804172,  4.18287738, ...,  3.92951907,\n",
              "         3.92733338,  0.        ],\n",
              "       [ 0.92006683,  0.9198755 ,  0.91985928, ...,  0.89255534,\n",
              "         0.8912433 ,  0.        ]])"
            ]
          },
          "execution_count": 543,
          "metadata": {},
          "output_type": "execute_result"
        }
      ],
      "source": [
        "ecg_dataset_3"
      ]
    },
    {
      "cell_type": "code",
      "execution_count": 544,
      "metadata": {},
      "outputs": [
        {
          "data": {
            "text/plain": [
              "array([[ 0.83044173,  0.84384309,  0.85389954, ..., -0.16908056,\n",
              "        -0.17758028,  0.        ],\n",
              "       [-0.16203009, -0.15870903, -0.15613345, ..., -0.01814227,\n",
              "        -0.01395796,  0.        ],\n",
              "       [ 0.12116248,  0.11590817,  0.11017886, ...,  0.09504976,\n",
              "         0.10191916,  0.        ],\n",
              "       ...,\n",
              "       [-0.30680782, -0.30948893, -0.31251739, ..., -0.2837909 ,\n",
              "        -0.28672877,  0.        ],\n",
              "       [-0.52517426, -0.52270548, -0.52192797, ..., -0.47105029,\n",
              "        -0.47073815,  0.        ],\n",
              "       [-0.19362542, -0.19718292, -0.20209005, ..., -0.29447036,\n",
              "        -0.30761588,  0.        ]])"
            ]
          },
          "execution_count": 544,
          "metadata": {},
          "output_type": "execute_result"
        }
      ],
      "source": [
        "ecg_dataset_5"
      ]
    },
    {
      "cell_type": "code",
      "execution_count": 545,
      "metadata": {
        "id": "vFd-_03F0Laa"
      },
      "outputs": [],
      "source": [
        "ecg_data_incart = ecg_dataset_3[:, :300] \n",
        "ecg_label_incart = ecg_dataset_3[:, 300] \n",
        "\n",
        "x_train_incart, x_test_incart, y_train_incart, y_test_incart = train_test_split(ecg_data_incart, ecg_label_incart,\n",
        "                                   random_state=104,\n",
        "                                   test_size=0.20,\n",
        "                                   shuffle=True)\n",
        "\n",
        "# Reshape to match model input [B, T, C]\n",
        "x_train_mit = x_train_mit[..., np.newaxis]\n",
        "x_test_mit  = x_test_mit[..., np.newaxis]\n",
        "x_train_incart = x_train_incart[..., np.newaxis]\n",
        "x_test_incart  = x_test_incart[..., np.newaxis]\n",
        "\n",
        "y_train_mit = y_train_mit.astype(int)\n",
        "y_test_mit  = y_test_mit.astype(int)\n",
        "y_train_incart = y_train_incart.astype(int)\n",
        "y_test_incart  = y_test_incart.astype(int)"
      ]
    },
    {
      "cell_type": "code",
      "execution_count": 546,
      "metadata": {
        "id": "klfWWtBTRg0m"
      },
      "outputs": [],
      "source": [
        "# label encode the target variable # just convert numpy.float64 to numpy.int64\n",
        "from sklearn.preprocessing import LabelEncoder\n",
        "Y_5classincart = LabelEncoder().fit_transform(Y_5classincart)"
      ]
    },
    {
      "cell_type": "code",
      "execution_count": 547,
      "metadata": {
        "id": "PBXxI8KlRnbg"
      },
      "outputs": [],
      "source": [
        "ecg_data_incart = X_incart[:, :300]\n",
        "ecg_label_incart = Y_5classincart.reshape(-1, 1) # otherwise np.hstack will not work"
      ]
    },
    {
      "cell_type": "code",
      "execution_count": 548,
      "metadata": {
        "id": "dnBYelsuR6yE"
      },
      "outputs": [],
      "source": [
        "# Complete ECG dataset with 5 type of Arrhythmia\n",
        "ecg_dataset_3 = np.hstack((ecg_data_incart, ecg_label_incart))"
      ]
    },
    {
      "cell_type": "markdown",
      "metadata": {
        "id": "8UFDjvDoIxKI"
      },
      "source": [
        "# **Part E: Model Building and Training**\n",
        "A **CNN-LSTM and attention** based hybrid model is formulated."
      ]
    },
    {
      "cell_type": "markdown",
      "metadata": {
        "id": "XK4S4MiLPhDM"
      },
      "source": [
        "## **E1: Attention Mechanism**\n",
        "**Convolutional Block Attention Module** ([CBAM](https://arxiv.org/abs/1807.06521)) consists two parts (i) **channel attention**, (ii) spatial attention. ECG is an 1D signal and 1-lead ECG is used in the modle.Therefore, only channel attention is only used."
      ]
    },
    {
      "cell_type": "code",
      "execution_count": 549,
      "metadata": {
        "id": "GKaLIAXiPkFf"
      },
      "outputs": [],
      "source": [
        "import tensorflow as tf\n",
        "\n",
        "class ChannelAttention(tf.keras.layers.Layer):\n",
        "    def __init__(self, filters, ratio, **kwargs):\n",
        "        super(ChannelAttention, self).__init__(**kwargs)\n",
        "        self.filters = filters\n",
        "        self.ratio = ratio\n",
        "\n",
        "    def build(self, input_shape):\n",
        "        self.shared_layer_one = tf.keras.layers.Dense(self.filters // self.ratio,\n",
        "                                                     activation='relu', \n",
        "                                                     kernel_initializer='he_normal',\n",
        "                                                     use_bias=True,\n",
        "                                                     bias_initializer='zeros')\n",
        "        self.shared_layer_two = tf.keras.layers.Dense(self.filters,\n",
        "                                                     kernel_initializer='he_normal',\n",
        "                                                     use_bias=True,\n",
        "                                                     bias_initializer='zeros')\n",
        "        super(ChannelAttention, self).build(input_shape)\n",
        "\n",
        "    def call(self, inputs):\n",
        "        # Avg pool\n",
        "        avg_pool = tf.keras.layers.GlobalAveragePooling1D()(inputs)   \n",
        "        avg_pool = self.shared_layer_one(avg_pool)\n",
        "        avg_pool = self.shared_layer_two(avg_pool)\n",
        "\n",
        "        # Max pool\n",
        "        max_pool = tf.keras.layers.GlobalMaxPooling1D()(inputs)    \n",
        "        max_pool = self.shared_layer_one(max_pool)\n",
        "        max_pool = self.shared_layer_two(max_pool)\n",
        "\n",
        "        attention = tf.keras.layers.Add()([avg_pool, max_pool])\n",
        "        attention = tf.keras.layers.Activation('sigmoid')(attention)\n",
        "        attention = tf.expand_dims(attention, axis=1)  # shape (batch, 1, filters)\n",
        "\n",
        "        return tf.keras.layers.Multiply()([inputs, attention])\n",
        "\n",
        "    def get_config(self):\n",
        "        config = super(ChannelAttention, self).get_config()\n",
        "        config.update({\n",
        "            \"filters\": self.filters,\n",
        "            \"ratio\": self.ratio,\n",
        "        })\n",
        "        return config"
      ]
    },
    {
      "cell_type": "code",
      "execution_count": 550,
      "metadata": {
        "id": "iP1DiOrK0Lab"
      },
      "outputs": [],
      "source": [
        "# udf for spatial attention mechanism\n",
        "class SpatialAttention(tf.keras.layers.Layer):\n",
        "    def __init__(self, kernel_size):\n",
        "        super(SpatialAttention, self).__init__()\n",
        "        self.kernel_size = kernel_size\n",
        "\n",
        "    def build(self, input_shape):\n",
        "        self.conv2d = tf.keras.layers.Conv2D(filters = 1,\n",
        "                kernel_size=self.kernel_size,\n",
        "                strides=1,\n",
        "                padding='same',\n",
        "                activation='sigmoid',\n",
        "                kernel_initializer='he_normal',\n",
        "                use_bias=False)\n",
        "\n",
        "    def call(self, inputs):\n",
        "\n",
        "        # AvgPool\n",
        "        avg_pool = tf.keras.layers.Lambda(lambda x: tf.keras.backend.mean(x, axis=3, keepdims=True))(inputs)\n",
        "\n",
        "        # MaxPool\n",
        "        max_pool = tf.keras.layers.Lambda(lambda x: tf.keras.backend.max(x, axis=3, keepdims=True))(inputs)\n",
        "\n",
        "        attention = tf.keras.layers.Concatenate(axis=3)([avg_pool, max_pool])\n",
        "\n",
        "        attention = self.conv2d(attention)\n",
        "\n",
        "\n",
        "        return tf.keras.layers.multiply([inputs, attention])\n"
      ]
    },
    {
      "cell_type": "code",
      "execution_count": 551,
      "metadata": {
        "id": "4jlGi3_V0Lab"
      },
      "outputs": [],
      "source": [
        "#E2: Making Transformer Encoder\n",
        "\n",
        "#Transformer is designe followed by the encoder given in Attention is all you need paper. Here, input is ECG signal after some convolution layers.\n",
        "\n",
        "import tensorflow as tf\n",
        "from tensorflow.keras.layers import Input, Conv1D, MaxPooling1D, Dropout, MultiHeadAttention, LayerNormalization, BatchNormalization, GlobalAveragePooling1D, Dense, Add, Flatten\n",
        "from tensorflow.keras.models import Model\n",
        "import numpy as np"
      ]
    },
    {
      "cell_type": "code",
      "execution_count": 552,
      "metadata": {
        "id": "vWdQp5v00Lab"
      },
      "outputs": [],
      "source": [
        "class TransformerEncoder(tf.keras.layers.Layer):\n",
        "    def __init__(self, num_heads, d_model, dff, dropout_rate, **kwargs):\n",
        "        super(TransformerEncoder, self).__init__(**kwargs)\n",
        "        self.num_heads = num_heads\n",
        "        self.d_model = d_model\n",
        "        self.dff = dff\n",
        "        self.dropout_rate = dropout_rate\n",
        "\n",
        "        self.multi_head_attention = tf.keras.layers.MultiHeadAttention(key_dim=d_model, num_heads=num_heads)\n",
        "        self.dropout = tf.keras.layers.Dropout(dropout_rate)\n",
        "        self.layer_norm = tf.keras.layers.LayerNormalization(epsilon=1e-6)\n",
        "        self.dense = tf.keras.layers.Dense(dff, activation='relu')\n",
        "\n",
        "    def call(self, inputs, training=True):\n",
        "        attention_output = self.multi_head_attention(inputs, inputs)\n",
        "        attention_output = self.dropout(attention_output, training=training)\n",
        "        attention_output = self.layer_norm(inputs + attention_output)\n",
        "\n",
        "        ffn_output = self.dense(attention_output)\n",
        "        ffn_output = self.dropout(ffn_output, training=training)\n",
        "        encoder_output = self.layer_norm(attention_output + ffn_output)\n",
        "\n",
        "        return encoder_output\n",
        "\n",
        "    def get_config(self):\n",
        "        config = super(TransformerEncoder, self).get_config()\n",
        "        config.update({\n",
        "            \"num_heads\": self.num_heads,\n",
        "            \"d_model\": self.d_model,\n",
        "            \"dff\": self.dff,\n",
        "            \"dropout_rate\": self.dropout_rate,\n",
        "        })\n",
        "        return config"
      ]
    },
    {
      "cell_type": "code",
      "execution_count": 553,
      "metadata": {
        "id": "6y0reQ_Y0Lab"
      },
      "outputs": [],
      "source": [
        "def positional_encoding(seq_len, d, n=10000):\n",
        "    P = np.zeros((seq_len, d))\n",
        "    for k in range(seq_len):\n",
        "        for i in np.arange(int(d/2)):\n",
        "            denominator = np.power(n, 2*i/d)\n",
        "            P[k, 2*i] = np.sin(k/denominator)\n",
        "            P[k, 2*i+1] = np.cos(k/denominator)\n",
        "    return tf.constant(P, dtype=tf.float32)"
      ]
    },
    {
      "cell_type": "code",
      "execution_count": 554,
      "metadata": {
        "id": "xxe5zXKG0Lab"
      },
      "outputs": [],
      "source": [
        "class GradientReversal(tf.keras.layers.Layer):\n",
        "    def __init__(self, lambda_=1.0, **kwargs):\n",
        "        super().__init__(**kwargs)\n",
        "        self.lambda_ = lambda_\n",
        "\n",
        "    def call(self, x):\n",
        "        lambda_ = self.lambda_\n",
        "\n",
        "        @tf.custom_gradient\n",
        "        def _flip_gradients(x):\n",
        "            def grad(dy):\n",
        "                return -lambda_ * dy\n",
        "            return x, grad\n",
        "\n",
        "        return _flip_gradients(x)\n",
        "\n",
        "    def get_config(self):\n",
        "        config = super().get_config()\n",
        "        config.update({\n",
        "            \"lambda_\": self.lambda_\n",
        "        })\n",
        "        return config\n",
        "\n",
        "    @classmethod\n",
        "    def from_config(cls, config):\n",
        "        return cls(**config)\n"
      ]
    },
    {
      "cell_type": "code",
      "execution_count": 555,
      "metadata": {
        "id": "8dYgTz0G0Lab"
      },
      "outputs": [],
      "source": [
        "class LambdaScheduler(tf.keras.callbacks.Callback):\n",
        "    def __init__(self, layer, max_lambda=1.0, total_epochs=50):\n",
        "        super().__init__()\n",
        "        self.layer = layer\n",
        "        self.max_lambda = max_lambda\n",
        "        self.total_epochs = total_epochs\n",
        "\n",
        "    def on_epoch_begin(self, epoch, logs=None):\n",
        "        p = epoch / max(1, self.total_epochs - 1)\n",
        "        lam = 2.0 / (1.0 + np.exp(-10.0 * p)) - 1.0  # classic DANN schedule\n",
        "        self.layer.lambda_ = self.max_lambda * lam\n",
        "\n",
        "# Use:\n",
        "# grl_layer = [l for l in dann_model.layers if isinstance(l, GradientReversal)][0]\n",
        "# dann_model.fit(..., callbacks=[LambdaScheduler(grl_layer, max_lambda=1.0, total_epochs=EPOCHS)])\n"
      ]
    },
    {
      "cell_type": "markdown",
      "metadata": {
        "id": "pxIressBhunq"
      },
      "source": [
        "## **E2: CNN-LSTM and attention model architecture**"
      ]
    },
    {
      "cell_type": "markdown",
      "metadata": {
        "id": "QZDWojzjml7r"
      },
      "source": [
        "### **a. Model building**"
      ]
    },
    {
      "cell_type": "code",
      "execution_count": 556,
      "metadata": {
        "id": "Xymu6Ab50Lab"
      },
      "outputs": [],
      "source": [
        "from tensorflow.keras.layers import MaxPooling2D\n",
        "from tensorflow.keras.layers import Conv2D\n",
        "from tensorflow.keras.layers import Reshape"
      ]
    },
    {
      "cell_type": "code",
      "execution_count": 557,
      "metadata": {
        "id": "sEFtD-SR0Lab"
      },
      "outputs": [],
      "source": [
        "def build_feature_extractor(max_sequence_length, num_channels, d_model, num_heads, dff, dropout_rate):\n",
        "  # Input layer for the time series data\n",
        "    input_sequence = Input(shape=(max_sequence_length, num_channels))\n",
        "\n",
        "    # Convolutional layers\n",
        "\n",
        "    x = Conv1D(filters=16, kernel_size=21, strides=1, padding='same', activation='relu')(input_sequence)\n",
        "    print(x.shape)\n",
        "    x = BatchNormalization()(x)\n",
        "    print(x.shape)\n",
        "    x = ChannelAttention(16, 8)(x)\n",
        "    print(x.shape)\n",
        "    x = MaxPooling1D(pool_size=(3), strides=2, padding='same')(x)\n",
        "\n",
        "    x = Conv1D(filters=32, kernel_size=23, strides=1, padding='same', activation='relu')(x)\n",
        "    x = BatchNormalization()(x)\n",
        "    x = ChannelAttention(32, 8)(x)\n",
        "    x = MaxPooling1D(pool_size=(3), strides=2, padding='same')(x)\n",
        "\n",
        "    x = Conv1D(filters=64, kernel_size=25, strides=1, padding='same', activation='relu')(x)\n",
        "    x = BatchNormalization()(x)\n",
        "    x = ChannelAttention(64, 8)(x)\n",
        "\n",
        "\n",
        "    x = MaxPooling1D(pool_size=(3), strides=2, padding='same')(x)\n",
        "\n",
        "    x = Conv1D(filters=128, kernel_size=27, strides=1, padding='same', activation='relu')(x)\n",
        "    x = BatchNormalization()(x)\n",
        "    x = ChannelAttention(128, 8)(x)\n",
        "\n",
        "\n",
        "\n",
        "    def positional_encoding(seq_len, d, n=10000):\n",
        "      P = np.zeros((seq_len, d))\n",
        "      for k in range(seq_len):\n",
        "        for i in np.arange(int(d/2)):\n",
        "            denominator = np.power(n, 2*i/d)\n",
        "            P[k, 2*i] = np.sin(k/denominator)\n",
        "            P[k, 2*i+1] = np.cos(k/denominator)\n",
        "        return tf.constant(P, dtype=tf.float32)\n",
        "\n",
        "\n",
        "    # Positional Encoding\n",
        "    positional_encoding = positional_encoding(seq_len = 38, d=128)\n",
        "    x = x + positional_encoding\n",
        "\n",
        "\n",
        "    # Transformer Encoder block\n",
        "    query = x  # 'query' branch is the output from the last Conv1D layer\n",
        "    value = x  # 'value' branch is also the output from the last Conv1D layer\n",
        "\n",
        "    # Create TransformerEncoder class instance\n",
        "    transformer_encoder = TransformerEncoder(num_heads=num_heads, d_model=d_model, dff=dff, dropout_rate=dropout_rate)\n",
        "    encoder_output = transformer_encoder(query)  # Call the TransformerEncoder instance with 'query' input\n",
        "\n",
        "    x = Flatten()(encoder_output)\n",
        "    x = Dense(units=128, activation='relu')(x)\n",
        "    x = Dropout(rate=0.2)(x)\n",
        "\n",
        "\n",
        "    # Output layer\n",
        "    output = Dense(units=3, activation='softmax')(x)\n",
        "\n",
        "    # Create the model\n",
        "    model = Model(inputs=input_sequence, outputs=output)\n",
        "\n",
        "    return model"
      ]
    },
    {
      "cell_type": "code",
      "execution_count": 558,
      "metadata": {
        "id": "KWFEXNSy0Lac"
      },
      "outputs": [],
      "source": [
        "def build_dann_model(max_sequence_length=300, num_channels=1,\n",
        "                     d_model=128, num_heads=4, dff=128, dropout_rate=0.2,\n",
        "                     num_classes=5, grl_lambda=1.0):\n",
        "    # shared feature extractor\n",
        "    feature_extractor = build_feature_extractor(max_sequence_length, num_channels, d_model, num_heads, dff, dropout_rate)\n",
        "    input_sequence = feature_extractor.input\n",
        "    features = feature_extractor.output  # [B, d_model]\n",
        "\n",
        "    # ---- Task (label) head ----\n",
        "    t = Dense(128, activation='relu')(features)\n",
        "    t = Dropout(0.2)(t)\n",
        "    task_output = Dense(num_classes, activation='softmax', name='task_output')(t)\n",
        "\n",
        "    # ---- Domain head (with GRL) ----\n",
        "    grl = GradientReversal(lambda_=grl_lambda)(features)\n",
        "    d = Dense(128, activation='relu')(grl)\n",
        "    d = Dropout(0.2)(d)\n",
        "    # Binary domain: 0=source, 1=target. If more domains, switch to softmax.\n",
        "    domain_output = Dense(1, activation='sigmoid', name='domain_output')(d)\n",
        "\n",
        "    model = Model(inputs=input_sequence, outputs=[task_output, domain_output], name=\"DANN_CNN_Transformer\")\n",
        "    return model\n"
      ]
    },
    {
      "cell_type": "markdown",
      "metadata": {
        "id": "xiXpEAi5w4wV"
      },
      "source": [
        "### **b. Hyperparameter Tuning**\n",
        "Many architectures of model is found by changing hyperparameters.\n",
        "* Model: with or without channel or spatial attention.\n",
        "* CNN Filters: Number of filters in each Conv layer is changing like 4, 16, 32, 64, 128 etc.\n",
        "* LSTM Units: Number of units of two LSTM layer is varing like 32, 64, 128 etc."
      ]
    },
    {
      "cell_type": "code",
      "execution_count": 559,
      "metadata": {
        "colab": {
          "base_uri": "https://localhost:8080/",
          "height": 1000
        },
        "id": "hMUn7IcW0Lac",
        "outputId": "7bcb4aac-2fe3-490d-980e-fd692fa019af"
      },
      "outputs": [
        {
          "name": "stdout",
          "output_type": "stream",
          "text": [
            "(None, 300, 16)\n",
            "(None, 300, 16)\n",
            "(None, 300, 16)\n",
            "Model: \"DANN_CNN_Transformer\"\n",
            "__________________________________________________________________________________________________\n",
            " Layer (type)                   Output Shape         Param #     Connected to                     \n",
            "==================================================================================================\n",
            " input_9 (InputLayer)           [(None, 300, 1)]     0           []                               \n",
            "                                                                                                  \n",
            " conv1d_32 (Conv1D)             (None, 300, 16)      352         ['input_9[0][0]']                \n",
            "                                                                                                  \n",
            " batch_normalization_32 (BatchN  (None, 300, 16)     64          ['conv1d_32[0][0]']              \n",
            " ormalization)                                                                                    \n",
            "                                                                                                  \n",
            " channel_attention_32 (ChannelA  (None, 300, 16)     82          ['batch_normalization_32[0][0]'] \n",
            " ttention)                                                                                        \n",
            "                                                                                                  \n",
            " max_pooling1d_24 (MaxPooling1D  (None, 150, 16)     0           ['channel_attention_32[0][0]']   \n",
            " )                                                                                                \n",
            "                                                                                                  \n",
            " conv1d_33 (Conv1D)             (None, 150, 32)      11808       ['max_pooling1d_24[0][0]']       \n",
            "                                                                                                  \n",
            " batch_normalization_33 (BatchN  (None, 150, 32)     128         ['conv1d_33[0][0]']              \n",
            " ormalization)                                                                                    \n",
            "                                                                                                  \n",
            " channel_attention_33 (ChannelA  (None, 150, 32)     292         ['batch_normalization_33[0][0]'] \n",
            " ttention)                                                                                        \n",
            "                                                                                                  \n",
            " max_pooling1d_25 (MaxPooling1D  (None, 75, 32)      0           ['channel_attention_33[0][0]']   \n",
            " )                                                                                                \n",
            "                                                                                                  \n",
            " conv1d_34 (Conv1D)             (None, 75, 64)       51264       ['max_pooling1d_25[0][0]']       \n",
            "                                                                                                  \n",
            " batch_normalization_34 (BatchN  (None, 75, 64)      256         ['conv1d_34[0][0]']              \n",
            " ormalization)                                                                                    \n",
            "                                                                                                  \n",
            " channel_attention_34 (ChannelA  (None, 75, 64)      1096        ['batch_normalization_34[0][0]'] \n",
            " ttention)                                                                                        \n",
            "                                                                                                  \n",
            " max_pooling1d_26 (MaxPooling1D  (None, 38, 64)      0           ['channel_attention_34[0][0]']   \n",
            " )                                                                                                \n",
            "                                                                                                  \n",
            " conv1d_35 (Conv1D)             (None, 38, 128)      221312      ['max_pooling1d_26[0][0]']       \n",
            "                                                                                                  \n",
            " batch_normalization_35 (BatchN  (None, 38, 128)     512         ['conv1d_35[0][0]']              \n",
            " ormalization)                                                                                    \n",
            "                                                                                                  \n",
            " channel_attention_35 (ChannelA  (None, 38, 128)     4240        ['batch_normalization_35[0][0]'] \n",
            " ttention)                                                                                        \n",
            "                                                                                                  \n",
            " tf.__operators__.add_8 (TFOpLa  (None, 38, 128)     0           ['channel_attention_35[0][0]']   \n",
            " mbda)                                                                                            \n",
            "                                                                                                  \n",
            " transformer_encoder_8 (Transfo  (None, 38, 128)     280576      ['tf.__operators__.add_8[0][0]'] \n",
            " rmerEncoder)                                                                                     \n",
            "                                                                                                  \n",
            " flatten_8 (Flatten)            (None, 4864)         0           ['transformer_encoder_8[0][0]']  \n",
            "                                                                                                  \n",
            " dense_46 (Dense)               (None, 128)          622720      ['flatten_8[0][0]']              \n",
            "                                                                                                  \n",
            " dropout_38 (Dropout)           (None, 128)          0           ['dense_46[0][0]']               \n",
            "                                                                                                  \n",
            " dense_47 (Dense)               (None, 3)            387         ['dropout_38[0][0]']             \n",
            "                                                                                                  \n",
            " gradient_reversal_8 (GradientR  (None, 3)           0           ['dense_47[0][0]']               \n",
            " eversal)                                                                                         \n",
            "                                                                                                  \n",
            " dense_48 (Dense)               (None, 128)          512         ['dense_47[0][0]']               \n",
            "                                                                                                  \n",
            " dense_49 (Dense)               (None, 128)          512         ['gradient_reversal_8[0][0]']    \n",
            "                                                                                                  \n",
            " dropout_39 (Dropout)           (None, 128)          0           ['dense_48[0][0]']               \n",
            "                                                                                                  \n",
            " dropout_40 (Dropout)           (None, 128)          0           ['dense_49[0][0]']               \n",
            "                                                                                                  \n",
            " task_output (Dense)            (None, 5)            645         ['dropout_39[0][0]']             \n",
            "                                                                                                  \n",
            " domain_output (Dense)          (None, 1)            129         ['dropout_40[0][0]']             \n",
            "                                                                                                  \n",
            "==================================================================================================\n",
            "Total params: 1,196,887\n",
            "Trainable params: 1,196,407\n",
            "Non-trainable params: 480\n",
            "__________________________________________________________________________________________________\n"
          ]
        }
      ],
      "source": [
        "# Hyperparameters\n",
        "max_sequence_length = 300\n",
        "num_channels = 1  # For single-channel ECG, set num_channels to 1. For multi-channel, adjust accordingly.\n",
        "d_model = 128\n",
        "num_heads = 4\n",
        "dropout_rate = 0.2\n",
        "dff = 128\n",
        "num_classes = 5\n",
        "grl_lambda = 1.0\n",
        "\n",
        "# Build the model using the user-defined function\n",
        "dann_model = build_dann_model(max_sequence_length, num_channels, d_model, num_heads, dff, dropout_rate, num_classes, grl_lambda)\n",
        "\n",
        "dann_model.compile(\n",
        "    optimizer=tf.keras.optimizers.Adam(),\n",
        "    loss={\n",
        "        'task_output': tf.keras.losses.SparseCategoricalCrossentropy(),\n",
        "        'domain_output': tf.keras.losses.BinaryCrossentropy()\n",
        "    },\n",
        "    metrics={\n",
        "        'task_output': ['accuracy'],\n",
        "        'domain_output': ['accuracy']\n",
        "    },\n",
        "    weighted_metrics=[],  # <--- add this line to silence the warning\n",
        "    loss_weights={'task_output': 1.0, 'domain_output': 1.0}\n",
        ")\n",
        "\n",
        "dann_model.summary()\n"
      ]
    },
    {
      "cell_type": "markdown",
      "metadata": {
        "id": "Fy4n0su-nS0l"
      },
      "source": [
        "### **c. Model Training**"
      ]
    },
    {
      "cell_type": "code",
      "execution_count": 560,
      "metadata": {
        "id": "JYc5O0QS0Lac"
      },
      "outputs": [],
      "source": [
        "class LambdaScheduler(tf.keras.callbacks.Callback):\n",
        "    def __init__(self, layer, max_lambda=1.0, total_epochs=50):\n",
        "        super().__init__()\n",
        "        self.layer = layer\n",
        "        self.max_lambda = max_lambda\n",
        "        self.total_epochs = total_epochs\n",
        "\n",
        "    def on_epoch_begin(self, epoch, logs=None):\n",
        "        p = epoch / max(1, self.total_epochs - 1)\n",
        "        lam = 2.0 / (1.0 + np.exp(-10.0 * p)) - 1.0  # classic DANN schedule\n",
        "        self.layer.lambda_ = self.max_lambda * lam\n"
      ]
    },
    {
      "cell_type": "code",
      "execution_count": 561,
      "metadata": {
        "colab": {
          "base_uri": "https://localhost:8080/",
          "height": 233
        },
        "id": "13jm7DpW0Lac",
        "outputId": "fc5914de-ef21-4593-9363-2ba99c5a2448"
      },
      "outputs": [],
      "source": [
        "# Concatenate source and target\n",
        "X_mix = np.concatenate([x_train_mit, x_train_incart], axis=0)\n",
        "\n",
        "# Task labels: source has real labels, target gets dummy (ignored via sample weights)\n",
        "task_y_src = y_train_mit\n",
        "task_y_tgt_dummy = np.zeros((x_train_incart.shape[0], 1), dtype=np.int32)\n",
        "\n",
        "\n",
        "task_y_mix = np.concatenate([task_y_src, task_y_tgt_dummy], axis=0)\n",
        "\n",
        "# Domain labels: 0 = source, 1 = target\n",
        "domain_y_src = np.zeros((x_train_mit.shape[0], 1), dtype=np.float32)\n",
        "domain_y_tgt = np.ones((x_train_incart.shape[0], 1), dtype=np.float32)\n",
        "domain_y_mix = np.concatenate([domain_y_src, domain_y_tgt], axis=0)\n",
        "\n",
        "# Sample weights\n",
        "task_sw = np.concatenate([\n",
        "    np.ones_like(task_y_src, dtype=np.float32),                      # (num_source_samples, 1)\n",
        "    np.zeros((x_train_incart.shape[0], 1), dtype=np.float32)\n",
        "], axis=0)  # source counts, target ignored\n",
        "\n",
        "domain_sw = np.ones((X_mix.shape[0],), dtype=np.float32)  # both count\n"
      ]
    },
    {
      "cell_type": "markdown",
      "metadata": {
        "id": "AbC-3BoVxLA9"
      },
      "source": [
        "**Build, save and then Fit the Model.**\n",
        "If we have already the saved model, then no need to build, save and fit again."
      ]
    },
    {
      "cell_type": "code",
      "execution_count": 562,
      "metadata": {
        "id": "tVqixlQCyHnd"
      },
      "outputs": [],
      "source": [
        "#Define the log directory, which must be a subdirectory of the specified\n",
        "#directory when starting the web application. It is recommended to use date and time as the subdirectory name\n",
        "# logdir = DATA_ROOT_MITDB + \"logs\\\\\" + datetime.datetime.now().strftime(\"%Y%m%d-%H%M%S\")\n",
        "# model_path = DATA_ROOT_MITDB + \"trans1_incart_tomek_25_v2\"\n",
        "# model_path3 = model_path + \"m3\""
      ]
    },
    {
      "cell_type": "code",
      "execution_count": 564,
      "metadata": {
        "colab": {
          "base_uri": "https://localhost:8080/"
        },
        "id": "mhrKAoeujgD6",
        "outputId": "30eab151-d117-4aae-c495-173c4df3ed83"
      },
      "outputs": [
        {
          "name": "stdout",
          "output_type": "stream",
          "text": [
            "task_y_mix sample: [0 0 0 0 0 0 0 0 0 1] <class 'numpy.int32'>\n",
            "domain_y_mix sample: [0 0 0 0 0 0 0 0 0 0] <class 'numpy.int32'>\n",
            "X_mix shape: (151811, 300, 1)\n",
            "task_y_mix shape: (151811,)\n",
            "domain_y_mix shape: (151811,)\n",
            "task_sw shape: (151811,)\n",
            "domain_sw shape: (151811,)\n",
            "['task_output', 'domain_output']\n",
            "Model outputs: ['task_output', 'domain_output']\n",
            "NaNs in task_y_mix: False\n",
            "NaNs in domain_y_mix: False\n",
            "NaNs in task_sw: False\n",
            "NaNs in domain_sw: False\n",
            "Unique task_y_mix: [0 1 2]\n",
            "Unique domain_y_mix: [0 1]\n",
            "Epoch 1/30\n",
            "1187/1187 [==============================] - 28s 24ms/step - loss: 0.9304 - task_output_loss: 0.2389 - domain_output_loss: 0.6915 - task_output_accuracy: 0.9474 - domain_output_accuracy: 0.5295 - val_loss: 0.9291 - val_task_output_loss: 0.2375 - val_domain_output_loss: 0.6916 - val_task_output_accuracy: 0.9474 - val_domain_output_accuracy: 0.5295\n",
            "Epoch 2/30\n",
            "1187/1187 [==============================] - 28s 23ms/step - loss: 0.9304 - task_output_loss: 0.2390 - domain_output_loss: 0.6915 - task_output_accuracy: 0.9474 - domain_output_accuracy: 0.5295 - val_loss: 0.9289 - val_task_output_loss: 0.2374 - val_domain_output_loss: 0.6914 - val_task_output_accuracy: 0.9474 - val_domain_output_accuracy: 0.5295\n",
            "Epoch 3/30\n",
            "1187/1187 [==============================] - 28s 24ms/step - loss: 0.9304 - task_output_loss: 0.2390 - domain_output_loss: 0.6915 - task_output_accuracy: 0.9474 - domain_output_accuracy: 0.5295 - val_loss: 0.9291 - val_task_output_loss: 0.2377 - val_domain_output_loss: 0.6914 - val_task_output_accuracy: 0.9474 - val_domain_output_accuracy: 0.5295\n",
            "Epoch 4/30\n",
            "1187/1187 [==============================] - 27s 23ms/step - loss: 0.9304 - task_output_loss: 0.2389 - domain_output_loss: 0.6915 - task_output_accuracy: 0.9474 - domain_output_accuracy: 0.5295 - val_loss: 0.9299 - val_task_output_loss: 0.2385 - val_domain_output_loss: 0.6914 - val_task_output_accuracy: 0.9474 - val_domain_output_accuracy: 0.5295\n",
            "Epoch 5/30\n",
            "1187/1187 [==============================] - 27s 23ms/step - loss: 0.9302 - task_output_loss: 0.2388 - domain_output_loss: 0.6915 - task_output_accuracy: 0.9474 - domain_output_accuracy: 0.5295 - val_loss: 0.9297 - val_task_output_loss: 0.2383 - val_domain_output_loss: 0.6914 - val_task_output_accuracy: 0.9474 - val_domain_output_accuracy: 0.5295\n",
            "Epoch 6/30\n",
            "1187/1187 [==============================] - 28s 23ms/step - loss: 0.9300 - task_output_loss: 0.2386 - domain_output_loss: 0.6914 - task_output_accuracy: 0.9474 - domain_output_accuracy: 0.5295 - val_loss: 0.9288 - val_task_output_loss: 0.2373 - val_domain_output_loss: 0.6915 - val_task_output_accuracy: 0.9474 - val_domain_output_accuracy: 0.5295\n",
            "Epoch 7/30\n",
            "1187/1187 [==============================] - 29s 24ms/step - loss: 0.9298 - task_output_loss: 0.2384 - domain_output_loss: 0.6914 - task_output_accuracy: 0.9474 - domain_output_accuracy: 0.5295 - val_loss: 0.9294 - val_task_output_loss: 0.2380 - val_domain_output_loss: 0.6914 - val_task_output_accuracy: 0.9474 - val_domain_output_accuracy: 0.5295\n",
            "Epoch 8/30\n",
            "1187/1187 [==============================] - 28s 24ms/step - loss: 0.9299 - task_output_loss: 0.2385 - domain_output_loss: 0.6914 - task_output_accuracy: 0.9474 - domain_output_accuracy: 0.5295 - val_loss: 0.9290 - val_task_output_loss: 0.2375 - val_domain_output_loss: 0.6914 - val_task_output_accuracy: 0.9474 - val_domain_output_accuracy: 0.5295\n",
            "Epoch 9/30\n",
            "1187/1187 [==============================] - 27s 23ms/step - loss: 0.9299 - task_output_loss: 0.2385 - domain_output_loss: 0.6914 - task_output_accuracy: 0.9474 - domain_output_accuracy: 0.5295 - val_loss: 0.9288 - val_task_output_loss: 0.2374 - val_domain_output_loss: 0.6914 - val_task_output_accuracy: 0.9474 - val_domain_output_accuracy: 0.5295\n",
            "Epoch 10/30\n",
            "1187/1187 [==============================] - 28s 23ms/step - loss: 0.9300 - task_output_loss: 0.2385 - domain_output_loss: 0.6914 - task_output_accuracy: 0.9474 - domain_output_accuracy: 0.5295 - val_loss: 0.9291 - val_task_output_loss: 0.2376 - val_domain_output_loss: 0.6915 - val_task_output_accuracy: 0.9474 - val_domain_output_accuracy: 0.5295\n",
            "Epoch 11/30\n",
            "1187/1187 [==============================] - 28s 23ms/step - loss: 0.9299 - task_output_loss: 0.2385 - domain_output_loss: 0.6914 - task_output_accuracy: 0.9474 - domain_output_accuracy: 0.5295 - val_loss: 0.9291 - val_task_output_loss: 0.2377 - val_domain_output_loss: 0.6914 - val_task_output_accuracy: 0.9474 - val_domain_output_accuracy: 0.5295\n",
            "Epoch 12/30\n",
            "1187/1187 [==============================] - 28s 23ms/step - loss: 0.9299 - task_output_loss: 0.2384 - domain_output_loss: 0.6914 - task_output_accuracy: 0.9474 - domain_output_accuracy: 0.5295 - val_loss: 0.9287 - val_task_output_loss: 0.2373 - val_domain_output_loss: 0.6914 - val_task_output_accuracy: 0.9474 - val_domain_output_accuracy: 0.5295\n",
            "Epoch 13/30\n",
            "1187/1187 [==============================] - 28s 23ms/step - loss: 0.9297 - task_output_loss: 0.2383 - domain_output_loss: 0.6914 - task_output_accuracy: 0.9474 - domain_output_accuracy: 0.5295 - val_loss: 0.9288 - val_task_output_loss: 0.2374 - val_domain_output_loss: 0.6914 - val_task_output_accuracy: 0.9474 - val_domain_output_accuracy: 0.5295\n",
            "Epoch 14/30\n",
            "1187/1187 [==============================] - 28s 23ms/step - loss: 0.9296 - task_output_loss: 0.2382 - domain_output_loss: 0.6914 - task_output_accuracy: 0.9474 - domain_output_accuracy: 0.5295 - val_loss: 0.9288 - val_task_output_loss: 0.2374 - val_domain_output_loss: 0.6914 - val_task_output_accuracy: 0.9474 - val_domain_output_accuracy: 0.5295\n",
            "Epoch 15/30\n",
            "1187/1187 [==============================] - 28s 24ms/step - loss: 0.9296 - task_output_loss: 0.2382 - domain_output_loss: 0.6914 - task_output_accuracy: 0.9474 - domain_output_accuracy: 0.5295 - val_loss: 0.9288 - val_task_output_loss: 0.2374 - val_domain_output_loss: 0.6914 - val_task_output_accuracy: 0.9474 - val_domain_output_accuracy: 0.5295\n",
            "Epoch 16/30\n",
            "1187/1187 [==============================] - 28s 24ms/step - loss: 0.9296 - task_output_loss: 0.2381 - domain_output_loss: 0.6914 - task_output_accuracy: 0.9474 - domain_output_accuracy: 0.5295 - val_loss: 0.9289 - val_task_output_loss: 0.2375 - val_domain_output_loss: 0.6914 - val_task_output_accuracy: 0.9474 - val_domain_output_accuracy: 0.5295\n",
            "Epoch 17/30\n",
            "1187/1187 [==============================] - 28s 24ms/step - loss: 0.9294 - task_output_loss: 0.2380 - domain_output_loss: 0.6914 - task_output_accuracy: 0.9474 - domain_output_accuracy: 0.5295 - val_loss: 0.9292 - val_task_output_loss: 0.2378 - val_domain_output_loss: 0.6914 - val_task_output_accuracy: 0.9474 - val_domain_output_accuracy: 0.5295\n",
            "Epoch 18/30\n",
            "1187/1187 [==============================] - 28s 24ms/step - loss: 0.9296 - task_output_loss: 0.2382 - domain_output_loss: 0.6914 - task_output_accuracy: 0.9474 - domain_output_accuracy: 0.5295 - val_loss: 0.9291 - val_task_output_loss: 0.2377 - val_domain_output_loss: 0.6914 - val_task_output_accuracy: 0.9474 - val_domain_output_accuracy: 0.5295\n",
            "Epoch 19/30\n",
            "1187/1187 [==============================] - 28s 23ms/step - loss: 0.9297 - task_output_loss: 0.2382 - domain_output_loss: 0.6914 - task_output_accuracy: 0.9474 - domain_output_accuracy: 0.5295 - val_loss: 0.9287 - val_task_output_loss: 0.2373 - val_domain_output_loss: 0.6914 - val_task_output_accuracy: 0.9474 - val_domain_output_accuracy: 0.5295\n",
            "Epoch 20/30\n",
            "1187/1187 [==============================] - 28s 23ms/step - loss: 0.9294 - task_output_loss: 0.2379 - domain_output_loss: 0.6914 - task_output_accuracy: 0.9474 - domain_output_accuracy: 0.5295 - val_loss: 0.9289 - val_task_output_loss: 0.2375 - val_domain_output_loss: 0.6914 - val_task_output_accuracy: 0.9474 - val_domain_output_accuracy: 0.5295\n",
            "Epoch 21/30\n",
            "1187/1187 [==============================] - 28s 24ms/step - loss: 0.9294 - task_output_loss: 0.2379 - domain_output_loss: 0.6914 - task_output_accuracy: 0.9474 - domain_output_accuracy: 0.5295 - val_loss: 0.9287 - val_task_output_loss: 0.2373 - val_domain_output_loss: 0.6914 - val_task_output_accuracy: 0.9474 - val_domain_output_accuracy: 0.5295\n",
            "Epoch 22/30\n",
            "1187/1187 [==============================] - 28s 24ms/step - loss: 0.9295 - task_output_loss: 0.2381 - domain_output_loss: 0.6914 - task_output_accuracy: 0.9474 - domain_output_accuracy: 0.5295 - val_loss: 0.9288 - val_task_output_loss: 0.2374 - val_domain_output_loss: 0.6914 - val_task_output_accuracy: 0.9474 - val_domain_output_accuracy: 0.5295\n",
            "Epoch 23/30\n",
            "1187/1187 [==============================] - 28s 23ms/step - loss: 0.9294 - task_output_loss: 0.2380 - domain_output_loss: 0.6914 - task_output_accuracy: 0.9474 - domain_output_accuracy: 0.5295 - val_loss: 0.9287 - val_task_output_loss: 0.2373 - val_domain_output_loss: 0.6914 - val_task_output_accuracy: 0.9474 - val_domain_output_accuracy: 0.5295\n",
            "Epoch 24/30\n",
            "1187/1187 [==============================] - 28s 24ms/step - loss: 0.9294 - task_output_loss: 0.2380 - domain_output_loss: 0.6914 - task_output_accuracy: 0.9474 - domain_output_accuracy: 0.5295 - val_loss: 0.9290 - val_task_output_loss: 0.2376 - val_domain_output_loss: 0.6914 - val_task_output_accuracy: 0.9474 - val_domain_output_accuracy: 0.5295\n",
            "Epoch 25/30\n",
            "1187/1187 [==============================] - 28s 23ms/step - loss: 0.9294 - task_output_loss: 0.2379 - domain_output_loss: 0.6914 - task_output_accuracy: 0.9474 - domain_output_accuracy: 0.5295 - val_loss: 0.9287 - val_task_output_loss: 0.2373 - val_domain_output_loss: 0.6914 - val_task_output_accuracy: 0.9474 - val_domain_output_accuracy: 0.5295\n",
            "Epoch 26/30\n",
            "1187/1187 [==============================] - 28s 24ms/step - loss: 0.9292 - task_output_loss: 0.2378 - domain_output_loss: 0.6914 - task_output_accuracy: 0.9474 - domain_output_accuracy: 0.5295 - val_loss: 0.9288 - val_task_output_loss: 0.2374 - val_domain_output_loss: 0.6914 - val_task_output_accuracy: 0.9474 - val_domain_output_accuracy: 0.5295\n",
            "Epoch 27/30\n",
            "1187/1187 [==============================] - 29s 24ms/step - loss: 0.9295 - task_output_loss: 0.2381 - domain_output_loss: 0.6914 - task_output_accuracy: 0.9474 - domain_output_accuracy: 0.5295 - val_loss: 0.9287 - val_task_output_loss: 0.2373 - val_domain_output_loss: 0.6914 - val_task_output_accuracy: 0.9474 - val_domain_output_accuracy: 0.5295\n",
            "Epoch 28/30\n",
            "1187/1187 [==============================] - 28s 24ms/step - loss: 0.9293 - task_output_loss: 0.2379 - domain_output_loss: 0.6914 - task_output_accuracy: 0.9474 - domain_output_accuracy: 0.5295 - val_loss: 0.9287 - val_task_output_loss: 0.2373 - val_domain_output_loss: 0.6914 - val_task_output_accuracy: 0.9474 - val_domain_output_accuracy: 0.5295\n",
            "Epoch 29/30\n",
            "1187/1187 [==============================] - 28s 23ms/step - loss: 0.9293 - task_output_loss: 0.2379 - domain_output_loss: 0.6914 - task_output_accuracy: 0.9474 - domain_output_accuracy: 0.5295 - val_loss: 0.9288 - val_task_output_loss: 0.2373 - val_domain_output_loss: 0.6914 - val_task_output_accuracy: 0.9474 - val_domain_output_accuracy: 0.5295\n",
            "Epoch 30/30\n",
            "1187/1187 [==============================] - 29s 24ms/step - loss: 0.9292 - task_output_loss: 0.2377 - domain_output_loss: 0.6914 - task_output_accuracy: 0.9474 - domain_output_accuracy: 0.5295 - val_loss: 0.9289 - val_task_output_loss: 0.2375 - val_domain_output_loss: 0.6914 - val_task_output_accuracy: 0.9474 - val_domain_output_accuracy: 0.5295\n"
          ]
        }
      ],
      "source": [
        "# Callbacks\n",
        "tensorboard_callback = tf.keras.callbacks.TensorBoard(log_dir=logdir, histogram_freq=1)\n",
        "\n",
        "checkpoint_filepath = DATA_ROOT_MITDB + \"dann_weights.weights.h5\"\n",
        "model_checkpoint_callback = tf.keras.callbacks.ModelCheckpoint(\n",
        "    filepath=checkpoint_filepath,\n",
        "    save_weights_only=True, monitor='val_task_output_accuracy',\n",
        "    mode='max', save_best_only=True\n",
        ")\n",
        "\n",
        "task_y_mix = task_y_mix.reshape(-1)      # (N,)\n",
        "task_sw    = task_sw.reshape(-1)\n",
        "domain_y_mix = domain_y_mix.reshape(-1)\n",
        "domain_sw    = domain_sw.reshape(-1)\n",
        "\n",
        "print(\"task_y_mix sample:\", task_y_mix[:10], type(task_y_mix[0]))\n",
        "print(\"domain_y_mix sample:\", domain_y_mix[:10], type(domain_y_mix[0]))\n",
        "\n",
        "print(\"X_mix shape:\", X_mix.shape)\n",
        "print(\"task_y_mix shape:\", task_y_mix.shape)\n",
        "print(\"domain_y_mix shape:\", domain_y_mix.shape)\n",
        "print(\"task_sw shape:\", task_sw.shape)\n",
        "print(\"domain_sw shape:\", domain_sw.shape)\n",
        "print(dann_model.output_names)\n",
        "\n",
        "print(\"Model outputs:\", dann_model.output_names)\n",
        "\n",
        "# Check NaNs or invalid values\n",
        "print(\"NaNs in task_y_mix:\", np.isnan(task_y_mix).any())\n",
        "print(\"NaNs in domain_y_mix:\", np.isnan(domain_y_mix).any())\n",
        "print(\"NaNs in task_sw:\", np.isnan(task_sw).any())\n",
        "print(\"NaNs in domain_sw:\", np.isnan(domain_sw).any())\n",
        "\n",
        "# Check unique labels\n",
        "print(\"Unique task_y_mix:\", np.unique(task_y_mix))\n",
        "print(\"Unique domain_y_mix:\", np.unique(domain_y_mix))\n",
        "\n",
        "task_y_mix   = task_y_mix.astype(\"int32\")   # labels should be int\n",
        "domain_y_mix = domain_y_mix.astype(\"int32\")\n",
        "task_sw      = task_sw.astype(\"float32\")    # weights should be float\n",
        "domain_sw    = domain_sw.astype(\"float32\")\n",
        "X_mix        = X_mix.astype(\"float32\")\n",
        "\n",
        "\n",
        "# Train\n",
        "history = dann_model.fit(\n",
        "    X_mix,\n",
        "    {'task_output': task_y_mix, 'domain_output': domain_y_mix},\n",
        "    batch_size=128,\n",
        "    epochs=30,\n",
        "    validation_data=(X_mix, {'task_output': task_y_mix, 'domain_output': domain_y_mix}),\n",
        "    callbacks=[tensorboard_callback, model_checkpoint_callback]\n",
        ")\n",
        "\n",
        "# Save model\n",
        "dann_model.save(model_path)\n",
        "reloaded = tf.keras.models.load_model(\n",
        "    model_path,\n",
        "    custom_objects={\n",
        "        \"GradientReversal\": GradientReversal,\n",
        "        \"ChannelAttention\": ChannelAttention,\n",
        "        \"TransformerEncoder\": TransformerEncoder\n",
        "        }\n",
        ")"
      ]
    },
    {
      "cell_type": "code",
      "execution_count": 565,
      "metadata": {},
      "outputs": [],
      "source": [
        "# # Task evaluation on source domain only\n",
        "# task_metrics_src = dann_model.evaluate(\n",
        "#     x_test_mit,\n",
        "#     [y_test_mit, np.zeros((x_test_mit.shape[0], 1), dtype=np.float32)],\n",
        "#     sample_weight=[np.ones_like(y_test_mit, dtype=np.float32), np.ones(x_test_mit.shape[0], dtype=np.float32)],\n",
        "#     verbose=1\n",
        "# )\n",
        "# print(\"MIT-BIH test metrics (task + domain):\", task_metrics_src)\n",
        "\n",
        "# # Domain evaluation on combined test set\n",
        "# X_test_mix = np.concatenate([x_test_mit, x_test_incart], axis=0)\n",
        "# domain_y_test = np.concatenate([\n",
        "#     np.zeros((x_test_mit.shape[0], 1), dtype=np.float32),\n",
        "#     np.ones((x_test_incart.shape[0], 1), dtype=np.float32)\n",
        "# ], axis=0)\n",
        "\n",
        "# task_y_dummy = np.zeros((X_test_mix.shape[0], 1), dtype=np.int32)\n",
        "\n",
        "# domain_metrics = dann_model.evaluate(\n",
        "#     X_test_mix,\n",
        "#     [task_y_dummy, domain_y_test],\n",
        "#     sample_weight=[np.zeros_like(task_y_dummy, dtype=np.float32), np.ones_like(domain_y_test, dtype=np.float32)],\n",
        "#     verbose=1\n",
        "# )\n",
        "# print(\"Domain classifier accuracy:\", domain_metrics)\n",
        "\n",
        "\n",
        "def evaluate_dann_posthoc(model, x_src, y_src, x_tgt, y_tgt=None):\n",
        "    results = {}\n",
        "\n",
        "    # --- Task evaluation on source domain ---\n",
        "    task_metrics_src = model.evaluate(\n",
        "        x_src,\n",
        "        [y_src, np.zeros((x_src.shape[0], 1), dtype=np.float32)],\n",
        "        sample_weight=[np.ones_like(y_src, dtype=np.float32), np.ones(x_src.shape[0], dtype=np.float32)],\n",
        "        verbose=0\n",
        "    )\n",
        "    results['task_accuracy_source'] = task_metrics_src[3]\n",
        "    results['domain_accuracy_source'] = task_metrics_src[4]\n",
        "\n",
        "    # --- Domain evaluation on combined set (source + target) ---\n",
        "    X_mix = np.concatenate([x_src, x_tgt], axis=0)\n",
        "    domain_y_test = np.concatenate([\n",
        "        np.zeros((x_src.shape[0], 1), dtype=np.float32),\n",
        "        np.ones((x_tgt.shape[0], 1), dtype=np.float32)\n",
        "    ], axis=0)\n",
        "    task_y_dummy = np.zeros((X_mix.shape[0], 1), dtype=np.int32)\n",
        "\n",
        "    domain_metrics = model.evaluate(\n",
        "        X_mix,\n",
        "        [task_y_dummy, domain_y_test],\n",
        "        sample_weight=[np.zeros_like(task_y_dummy, dtype=np.float32), np.ones_like(domain_y_test, dtype=np.float32)],\n",
        "        verbose=0\n",
        "    )\n",
        "    results['domain_accuracy_mixed'] = domain_metrics[4]\n",
        "\n",
        "    # --- Task evaluation on target domain (post-hoc using predict) ---\n",
        "    if y_tgt is not None:\n",
        "        task_preds_tgt = model.predict(x_tgt, verbose=0)[0]  # task branch output\n",
        "        pred_classes = np.argmax(task_preds_tgt, axis=1)\n",
        "        results['task_accuracy_target'] = np.mean(pred_classes == y_tgt)\n",
        "    else:\n",
        "        results['task_accuracy_target'] = None\n",
        "\n",
        "    # --- Print results ---\n",
        "    print(\"\\n=== DANN Evaluation ===\")\n",
        "    print(f\"Task accuracy (source): {results['task_accuracy_source']:.4f}\")\n",
        "    print(f\"Domain accuracy (source): {results['domain_accuracy_source']:.4f}\")\n",
        "    if y_tgt is not None:\n",
        "        print(f\"Task accuracy (target, post-hoc): {results['task_accuracy_target']:.4f}\")\n",
        "    print(f\"Domain accuracy (mixed): {results['domain_accuracy_mixed']:.4f}\")\n",
        "\n",
        "    return results\n"
      ]
    },
    {
      "cell_type": "code",
      "execution_count": 566,
      "metadata": {},
      "outputs": [
        {
          "name": "stdout",
          "output_type": "stream",
          "text": [
            "\n",
            "=== DANN Evaluation ===\n",
            "Task accuracy (source): 0.8995\n",
            "Domain accuracy (source): 1.0000\n",
            "Task accuracy (target, post-hoc): 0.8745\n",
            "Domain accuracy (mixed): 0.5295\n"
          ]
        }
      ],
      "source": [
        "eval_results = evaluate_dann_posthoc(\n",
        "    dann_model,\n",
        "    x_src=x_test_mit,\n",
        "    y_src=y_test_mit,\n",
        "    x_tgt=x_test_incart,\n",
        "    y_tgt=y_test_incart   # only for post-hoc evaluation\n",
        ")"
      ]
    },
    {
      "cell_type": "markdown",
      "metadata": {
        "id": "7lHPkLYHjL9s"
      },
      "source": [
        "### **d. Plotting Accuracy and Loss**\n",
        "Training and Validation accuray and loss curve plotting."
      ]
    },
    {
      "cell_type": "code",
      "execution_count": null,
      "metadata": {
        "colab": {
          "base_uri": "https://localhost:8080/",
          "height": 943
        },
        "id": "4lmIwtmU_6tB",
        "outputId": "92b22140-82ca-43af-b687-5dd38d9ffbe5"
      },
      "outputs": [
        {
          "data": {
            "image/png": "[encoded data removed]",
            "text/plain": [
              "<Figure size 640x480 with 1 Axes>"
            ]
          },
          "metadata": {},
          "output_type": "display_data"
        },
        {
          "data": {
            "image/png": "[encoded data removed]",
            "text/plain": [
              "<Figure size 640x480 with 1 Axes>"
            ]
          },
          "metadata": {},
          "output_type": "display_data"
        }
      ],
      "source": [
        "import matplotlib.pyplot as plt\n",
        "\n",
        "# Task accuracy\n",
        "plt.plot(history.history['task_output_accuracy'], label='Train Task Acc')\n",
        "plt.plot(history.history['val_task_output_accuracy'], label='Val Task Acc')\n",
        "plt.xlabel('Epochs')\n",
        "plt.ylabel('Accuracy')\n",
        "plt.title('Task Classifier Accuracy')\n",
        "plt.legend()\n",
        "plt.show()\n",
        "\n",
        "# Domain accuracy\n",
        "plt.plot(history.history['domain_output_accuracy'], label='Train Domain Acc')\n",
        "plt.plot(history.history['val_domain_output_accuracy'], label='Val Domain Acc')\n",
        "plt.xlabel('Epochs')\n",
        "plt.ylabel('Accuracy')\n",
        "plt.title('Domain Classifier Accuracy')\n",
        "plt.legend()\n",
        "plt.show()"
      ]
    },
    {
      "cell_type": "code",
      "execution_count": null,
      "metadata": {
        "colab": {
          "base_uri": "https://localhost:8080/",
          "height": 943
        },
        "id": "H4ZrEjpYAFDh",
        "outputId": "100e7fd5-c781-4479-8990-68fc2b205044"
      },
      "outputs": [
        {
          "data": {
            "image/png": "[encoded data removed]",
            "text/plain": [
              "<Figure size 640x480 with 1 Axes>"
            ]
          },
          "metadata": {},
          "output_type": "display_data"
        },
        {
          "data": {
            "image/png": "[encoded data removed]",
            "text/plain": [
              "<Figure size 640x480 with 1 Axes>"
            ]
          },
          "metadata": {},
          "output_type": "display_data"
        }
      ],
      "source": [
        "# Task loss\n",
        "plt.plot(history.history['task_output_loss'], label='Train Task Loss')\n",
        "plt.plot(history.history['val_task_output_loss'], label='Val Task Loss')\n",
        "plt.xlabel('Epochs')\n",
        "plt.ylabel('Loss')\n",
        "plt.title('Task Classifier Loss')\n",
        "plt.legend()\n",
        "plt.show()\n",
        "\n",
        "# Domain loss\n",
        "plt.plot(history.history['domain_output_loss'], label='Train Domain Loss')\n",
        "plt.plot(history.history['val_domain_output_loss'], label='Val Domain Loss')\n",
        "plt.xlabel('Epochs')\n",
        "plt.ylabel('Loss')\n",
        "plt.title('Domain Classifier Loss')\n",
        "plt.legend()\n",
        "plt.show()"
      ]
    },
    {
      "cell_type": "code",
      "execution_count": null,
      "metadata": {
        "colab": {
          "base_uri": "https://localhost:8080/",
          "height": 480
        },
        "id": "TDDK0WuL_ktd",
        "outputId": "2cc1b5e6-705b-4728-fbf8-b186e30063d2"
      },
      "outputs": [
        {
          "data": {
            "image/png": "[encoded data removed]",
            "text/plain": [
              "<Figure size 640x480 with 1 Axes>"
            ]
          },
          "metadata": {},
          "output_type": "display_data"
        }
      ],
      "source": [
        "plt.plot(history.history['domain_output_accuracy'], label='Train Domain Acc')\n",
        "plt.plot(history.history['val_domain_output_accuracy'], label='Val Domain Acc')\n",
        "plt.axhline(0.5, color='red', linestyle='--', label='Random (50%)')\n",
        "plt.xlabel('Epochs')\n",
        "plt.ylabel('Accuracy')\n",
        "plt.title('Domain Classifier Accuracy (Should Approach 50%)')\n",
        "plt.legend()\n",
        "plt.show()"
      ]
    },
    {
      "cell_type": "code",
      "execution_count": null,
      "metadata": {
        "id": "Hvc1xXOM_ysh"
      },
      "outputs": [
        {
          "name": "stdout",
          "output_type": "stream",
          "text": [
            "The tensorboard extension is already loaded. To reload it, use:\n",
            "  %reload_ext tensorboard\n"
          ]
        }
      ],
      "source": [
        "# Load the TensorBoard notebook extension\n",
        "%load_ext tensorboard"
      ]
    },
    {
      "cell_type": "code",
      "execution_count": null,
      "metadata": {
        "id": "uIlBEa1k_nbR"
      },
      "outputs": [
        {
          "data": {
            "text/plain": [
              "Reusing TensorBoard on port 6006 (pid 9224), started 1:27:04 ago. (Use '!kill 9224' to kill it.)"
            ]
          },
          "metadata": {},
          "output_type": "display_data"
        },
        {
          "data": {
            "text/html": [
              "\n",
              "      <iframe id=\"tensorboard-frame-260b97dc93489f86\" width=\"100%\" height=\"800\" frameborder=\"0\">\n",
              "      </iframe>\n",
              "      <script>\n",
              "        (function() {\n",
              "          const frame = document.getElementById(\"tensorboard-frame-260b97dc93489f86\");\n",
              "          const url = new URL(\"http://localhost\");\n",
              "          const port = 6006;\n",
              "          if (port) {\n",
              "            url.port = port;\n",
              "          }\n",
              "          frame.src = url;\n",
              "        })();\n",
              "      </script>\n",
              "    "
            ],
            "text/plain": [
              "<IPython.core.display.HTML object>"
            ]
          },
          "metadata": {},
          "output_type": "display_data"
        }
      ],
      "source": [
        "%tensorboard --logdir '/content/gdrive/MyDrive/ECG Arrhythmia trying/mit-bih-arrhythmia-database-1.0.0/logs\\20221220-113542'"
      ]
    },
    {
      "cell_type": "markdown",
      "metadata": {
        "id": "Bw44uya0nAPv"
      },
      "source": [
        "# **Part F: Results**\n"
      ]
    },
    {
      "cell_type": "markdown",
      "metadata": {
        "id": "Pnchlky_qg_R"
      },
      "source": [
        "## **F1: Classification Accuracy and Confusion Matrix**\n",
        "The overall classification accuracy and confusion matrix generated by the follwoing code."
      ]
    },
    {
      "cell_type": "markdown",
      "metadata": {
        "id": "T2RrfltdqfJx"
      },
      "source": [
        "**Model Testing**\n",
        "* a. Using **recently trained** and Saved Model after 30 Epochs.\n",
        "* b. Using the **best model** saved by *'model checkpoint'* callback."
      ]
    },
    {
      "cell_type": "markdown",
      "metadata": {
        "id": "gvZFelovnWXM"
      },
      "source": [
        "**a. Using Recently Trained Model**"
      ]
    },
    {
      "cell_type": "code",
      "execution_count": null,
      "metadata": {
        "colab": {
          "base_uri": "https://localhost:8080/",
          "height": 365
        },
        "id": "FZjofZQg-eaO",
        "outputId": "d3b6ab2f-9d0f-46d0-dcd0-bb1f8f3ea928"
      },
      "outputs": [
        {
          "ename": "TypeError",
          "evalue": "in user code:\n\n    File \"c:\\Users\\iaref\\miniconda3\\envs\\tf-gpu\\lib\\site-packages\\keras\\engine\\training.py\", line 1727, in test_function  *\n        return step_function(self, iterator)\n    File \"c:\\Users\\iaref\\miniconda3\\envs\\tf-gpu\\lib\\site-packages\\keras\\engine\\training.py\", line 1713, in step_function  **\n        outputs = model.distribute_strategy.run(run_step, args=(data,))\n    File \"c:\\Users\\iaref\\miniconda3\\envs\\tf-gpu\\lib\\site-packages\\keras\\engine\\training.py\", line 1701, in run_step  **\n        outputs = model.test_step(data)\n    File \"c:\\Users\\iaref\\miniconda3\\envs\\tf-gpu\\lib\\site-packages\\keras\\engine\\training.py\", line 1668, in test_step\n        return self.compute_metrics(x, y, y_pred, sample_weight)\n    File \"c:\\Users\\iaref\\miniconda3\\envs\\tf-gpu\\lib\\site-packages\\keras\\engine\\training.py\", line 1092, in compute_metrics\n        self.compiled_metrics.update_state(y, y_pred, sample_weight)\n    File \"c:\\Users\\iaref\\miniconda3\\envs\\tf-gpu\\lib\\site-packages\\keras\\engine\\compile_utils.py\", line 605, in update_state\n        metric_obj.update_state(y_t, y_p, sample_weight=mask)\n    File \"c:\\Users\\iaref\\miniconda3\\envs\\tf-gpu\\lib\\site-packages\\keras\\utils\\metrics_utils.py\", line 77, in decorated\n        update_op = update_state_fn(*args, **kwargs)\n    File \"c:\\Users\\iaref\\miniconda3\\envs\\tf-gpu\\lib\\site-packages\\keras\\metrics\\base_metric.py\", line 143, in update_state_fn\n        return ag_update_state(*args, **kwargs)\n    File \"c:\\Users\\iaref\\miniconda3\\envs\\tf-gpu\\lib\\site-packages\\keras\\metrics\\base_metric.py\", line 700, in update_state  **\n        matches = ag_fn(y_true, y_pred, **self._fn_kwargs)\n    File \"c:\\Users\\iaref\\miniconda3\\envs\\tf-gpu\\lib\\site-packages\\keras\\metrics\\metrics.py\", line 3672, in sparse_categorical_accuracy\n        if matches.shape.ndims > 1 and matches.shape[-1] == 1:\n\n    TypeError: '>' not supported between instances of 'NoneType' and 'int'\n",
          "output_type": "error",
          "traceback": [
            "\u001b[1;31m---------------------------------------------------------------------------\u001b[0m",
            "\u001b[1;31mTypeError\u001b[0m                                 Traceback (most recent call last)",
            "Cell \u001b[1;32mIn[486], line 15\u001b[0m\n\u001b[0;32m      8\u001b[0m test_metrics \u001b[38;5;241m=\u001b[39m dann_model\u001b[38;5;241m.\u001b[39mevaluate(\n\u001b[0;32m      9\u001b[0m     x_test_mit,\n\u001b[0;32m     10\u001b[0m     [y_test_mit, np\u001b[38;5;241m.\u001b[39mzeros((x_test_mit\u001b[38;5;241m.\u001b[39mshape[\u001b[38;5;241m0\u001b[39m], \u001b[38;5;241m1\u001b[39m), dtype\u001b[38;5;241m=\u001b[39mnp\u001b[38;5;241m.\u001b[39mfloat32)],    \u001b[38;5;66;03m# domain=0\u001b[39;00m\n\u001b[0;32m     11\u001b[0m     verbose\u001b[38;5;241m=\u001b[39m\u001b[38;5;241m0\u001b[39m\n\u001b[0;32m     12\u001b[0m )\n\u001b[0;32m     14\u001b[0m \u001b[38;5;66;03m# --- Evaluate on INCART (target domain, with real labels) ---\u001b[39;00m\n\u001b[1;32m---> 15\u001b[0m incart_metrics \u001b[38;5;241m=\u001b[39m \u001b[43mdann_model\u001b[49m\u001b[38;5;241;43m.\u001b[39;49m\u001b[43mevaluate\u001b[49m\u001b[43m(\u001b[49m\n\u001b[0;32m     16\u001b[0m \u001b[43m    \u001b[49m\u001b[43mx_test_incart\u001b[49m\u001b[43m,\u001b[49m\n\u001b[0;32m     17\u001b[0m \u001b[43m    \u001b[49m\u001b[43m[\u001b[49m\u001b[43my_test_incart\u001b[49m\u001b[43m,\u001b[49m\u001b[43m \u001b[49m\u001b[43mnp\u001b[49m\u001b[38;5;241;43m.\u001b[39;49m\u001b[43mones\u001b[49m\u001b[43m(\u001b[49m\u001b[43m(\u001b[49m\u001b[43mx_test_incart\u001b[49m\u001b[38;5;241;43m.\u001b[39;49m\u001b[43mshape\u001b[49m\u001b[43m[\u001b[49m\u001b[38;5;241;43m0\u001b[39;49m\u001b[43m]\u001b[49m\u001b[43m,\u001b[49m\u001b[43m \u001b[49m\u001b[38;5;241;43m1\u001b[39;49m\u001b[43m)\u001b[49m\u001b[43m,\u001b[49m\u001b[43m \u001b[49m\u001b[43mdtype\u001b[49m\u001b[38;5;241;43m=\u001b[39;49m\u001b[43mnp\u001b[49m\u001b[38;5;241;43m.\u001b[39;49m\u001b[43mfloat32\u001b[49m\u001b[43m)\u001b[49m\u001b[43m]\u001b[49m\u001b[43m,\u001b[49m\u001b[43m  \u001b[49m\u001b[38;5;66;43;03m# domain=1\u001b[39;49;00m\n\u001b[0;32m     18\u001b[0m \u001b[43m    \u001b[49m\u001b[43mverbose\u001b[49m\u001b[38;5;241;43m=\u001b[39;49m\u001b[38;5;241;43m0\u001b[39;49m\n\u001b[0;32m     19\u001b[0m \u001b[43m)\u001b[49m\n\u001b[0;32m     21\u001b[0m \u001b[38;5;66;03m# Unpack results (order: total_loss, task_loss, domain_loss, task_acc, domain_acc)\u001b[39;00m\n\u001b[0;32m     22\u001b[0m \u001b[38;5;28;01mdef\u001b[39;00m\u001b[38;5;250m \u001b[39m\u001b[38;5;21munpack_metrics\u001b[39m(metrics):\n",
            "File \u001b[1;32mc:\\Users\\iaref\\miniconda3\\envs\\tf-gpu\\lib\\site-packages\\keras\\utils\\traceback_utils.py:70\u001b[0m, in \u001b[0;36mfilter_traceback.<locals>.error_handler\u001b[1;34m(*args, **kwargs)\u001b[0m\n\u001b[0;32m     67\u001b[0m     filtered_tb \u001b[38;5;241m=\u001b[39m _process_traceback_frames(e\u001b[38;5;241m.\u001b[39m__traceback__)\n\u001b[0;32m     68\u001b[0m     \u001b[38;5;66;03m# To get the full stack trace, call:\u001b[39;00m\n\u001b[0;32m     69\u001b[0m     \u001b[38;5;66;03m# `tf.debugging.disable_traceback_filtering()`\u001b[39;00m\n\u001b[1;32m---> 70\u001b[0m     \u001b[38;5;28;01mraise\u001b[39;00m e\u001b[38;5;241m.\u001b[39mwith_traceback(filtered_tb) \u001b[38;5;28;01mfrom\u001b[39;00m\u001b[38;5;250m \u001b[39m\u001b[38;5;28;01mNone\u001b[39;00m\n\u001b[0;32m     71\u001b[0m \u001b[38;5;28;01mfinally\u001b[39;00m:\n\u001b[0;32m     72\u001b[0m     \u001b[38;5;28;01mdel\u001b[39;00m filtered_tb\n",
            "File \u001b[1;32m~\\AppData\\Local\\Temp\\__autograph_generated_fileehswnxgw.py:15\u001b[0m, in \u001b[0;36mouter_factory.<locals>.inner_factory.<locals>.tf__test_function\u001b[1;34m(iterator)\u001b[0m\n\u001b[0;32m     13\u001b[0m \u001b[38;5;28;01mtry\u001b[39;00m:\n\u001b[0;32m     14\u001b[0m     do_return \u001b[38;5;241m=\u001b[39m \u001b[38;5;28;01mTrue\u001b[39;00m\n\u001b[1;32m---> 15\u001b[0m     retval_ \u001b[38;5;241m=\u001b[39m ag__\u001b[38;5;241m.\u001b[39mconverted_call(ag__\u001b[38;5;241m.\u001b[39mld(step_function), (ag__\u001b[38;5;241m.\u001b[39mld(\u001b[38;5;28mself\u001b[39m), ag__\u001b[38;5;241m.\u001b[39mld(iterator)), \u001b[38;5;28;01mNone\u001b[39;00m, fscope)\n\u001b[0;32m     16\u001b[0m \u001b[38;5;28;01mexcept\u001b[39;00m:\n\u001b[0;32m     17\u001b[0m     do_return \u001b[38;5;241m=\u001b[39m \u001b[38;5;28;01mFalse\u001b[39;00m\n",
            "\u001b[1;31mTypeError\u001b[0m: in user code:\n\n    File \"c:\\Users\\iaref\\miniconda3\\envs\\tf-gpu\\lib\\site-packages\\keras\\engine\\training.py\", line 1727, in test_function  *\n        return step_function(self, iterator)\n    File \"c:\\Users\\iaref\\miniconda3\\envs\\tf-gpu\\lib\\site-packages\\keras\\engine\\training.py\", line 1713, in step_function  **\n        outputs = model.distribute_strategy.run(run_step, args=(data,))\n    File \"c:\\Users\\iaref\\miniconda3\\envs\\tf-gpu\\lib\\site-packages\\keras\\engine\\training.py\", line 1701, in run_step  **\n        outputs = model.test_step(data)\n    File \"c:\\Users\\iaref\\miniconda3\\envs\\tf-gpu\\lib\\site-packages\\keras\\engine\\training.py\", line 1668, in test_step\n        return self.compute_metrics(x, y, y_pred, sample_weight)\n    File \"c:\\Users\\iaref\\miniconda3\\envs\\tf-gpu\\lib\\site-packages\\keras\\engine\\training.py\", line 1092, in compute_metrics\n        self.compiled_metrics.update_state(y, y_pred, sample_weight)\n    File \"c:\\Users\\iaref\\miniconda3\\envs\\tf-gpu\\lib\\site-packages\\keras\\engine\\compile_utils.py\", line 605, in update_state\n        metric_obj.update_state(y_t, y_p, sample_weight=mask)\n    File \"c:\\Users\\iaref\\miniconda3\\envs\\tf-gpu\\lib\\site-packages\\keras\\utils\\metrics_utils.py\", line 77, in decorated\n        update_op = update_state_fn(*args, **kwargs)\n    File \"c:\\Users\\iaref\\miniconda3\\envs\\tf-gpu\\lib\\site-packages\\keras\\metrics\\base_metric.py\", line 143, in update_state_fn\n        return ag_update_state(*args, **kwargs)\n    File \"c:\\Users\\iaref\\miniconda3\\envs\\tf-gpu\\lib\\site-packages\\keras\\metrics\\base_metric.py\", line 700, in update_state  **\n        matches = ag_fn(y_true, y_pred, **self._fn_kwargs)\n    File \"c:\\Users\\iaref\\miniconda3\\envs\\tf-gpu\\lib\\site-packages\\keras\\metrics\\metrics.py\", line 3672, in sparse_categorical_accuracy\n        if matches.shape.ndims > 1 and matches.shape[-1] == 1:\n\n    TypeError: '>' not supported between instances of 'NoneType' and 'int'\n"
          ]
        }
      ],
      "source": [
        "# --- Evaluate on MIT (source domain) ---\n",
        "train_metrics = dann_model.evaluate(\n",
        "    x_train_mit,\n",
        "    [y_train_mit, np.zeros((x_train_mit.shape[0], 1), dtype=np.float32)],  # domain=0\n",
        "    verbose=0\n",
        ")\n",
        "\n",
        "test_metrics = dann_model.evaluate(\n",
        "    x_test_mit,\n",
        "    [y_test_mit, np.zeros((x_test_mit.shape[0], 1), dtype=np.float32)],    # domain=0\n",
        "    verbose=0\n",
        ")\n",
        "\n",
        "# --- Evaluate on INCART (target domain, with real labels) ---\n",
        "incart_metrics = dann_model.evaluate(\n",
        "    x_test_incart,\n",
        "    [y_test_incart, np.ones((x_test_incart.shape[0], 1), dtype=np.float32)],  # domain=1\n",
        "    verbose=0\n",
        ")\n",
        "\n",
        "# Unpack results (order: total_loss, task_loss, domain_loss, task_acc, domain_acc)\n",
        "def unpack_metrics(metrics):\n",
        "    return {\n",
        "        \"total_loss\": metrics[0],\n",
        "        \"task_loss\": metrics[1],\n",
        "        \"domain_loss\": metrics[2],\n",
        "        \"task_acc\": metrics[3],\n",
        "        \"domain_acc\": metrics[4],\n",
        "    }\n",
        "\n",
        "def print_metrics(name, metrics):\n",
        "    metrics = unpack_metrics(metrics)\n",
        "    print(f\"\\n--- {name} ---\")\n",
        "    print(f\" Total Loss   : {metrics['total_loss']:.4f}\")\n",
        "    print(f\" Task Loss    : {metrics['task_loss']:.4f}\")\n",
        "    print(f\" Domain Loss  : {metrics['domain_loss']:.4f}\")\n",
        "    print(f\" Task Acc     : {metrics['task_acc']*100:.2f}%\")\n",
        "    print(f\" Domain Acc   : {metrics['domain_acc']*100:.2f}%\")\n",
        "\n",
        "print_metrics(\"Train MIT\", train_metrics)\n",
        "print_metrics(\"Test MIT\", test_metrics)\n",
        "print_metrics(\"Test INCART\", incart_metrics)"
      ]
    },
    {
      "cell_type": "code",
      "execution_count": null,
      "metadata": {
        "colab": {
          "base_uri": "https://localhost:8080/",
          "height": 400
        },
        "id": "c4ZKLvLDnab0",
        "outputId": "08a740f5-97c3-4af4-f5c3-68b28b059c16"
      },
      "outputs": [
        {
          "ename": "ValueError",
          "evalue": "y_true and y_pred have different structures.\ny_true: *\ny_pred: ['*', '*']\n",
          "output_type": "error",
          "traceback": [
            "\u001b[0;31m---------------------------------------------------------------------------\u001b[0m",
            "\u001b[0;31mValueError\u001b[0m                                Traceback (most recent call last)",
            "\u001b[0;32m/tmp/ipython-input-2351210566.py\u001b[0m in \u001b[0;36m<cell line: 0>\u001b[0;34m()\u001b[0m\n\u001b[1;32m      1\u001b[0m \u001b[0;31m# evaluate the model\u001b[0m\u001b[0;34m\u001b[0m\u001b[0;34m\u001b[0m\u001b[0m\n\u001b[0;32m----> 2\u001b[0;31m \u001b[0mtrain_loss\u001b[0m\u001b[0;34m,\u001b[0m \u001b[0mtrain_acc\u001b[0m \u001b[0;34m=\u001b[0m \u001b[0mdann_model\u001b[0m\u001b[0;34m.\u001b[0m\u001b[0mevaluate\u001b[0m\u001b[0;34m(\u001b[0m\u001b[0mx_train_mit\u001b[0m\u001b[0;34m,\u001b[0m \u001b[0my_train_mit\u001b[0m\u001b[0;34m,\u001b[0m \u001b[0mverbose\u001b[0m\u001b[0;34m=\u001b[0m\u001b[0;36m0\u001b[0m\u001b[0;34m)\u001b[0m\u001b[0;34m\u001b[0m\u001b[0;34m\u001b[0m\u001b[0m\n\u001b[0m\u001b[1;32m      3\u001b[0m \u001b[0mtest_loss\u001b[0m\u001b[0;34m,\u001b[0m \u001b[0mtest_acc\u001b[0m \u001b[0;34m=\u001b[0m \u001b[0mdann_model\u001b[0m\u001b[0;34m.\u001b[0m\u001b[0mevaluate\u001b[0m\u001b[0;34m(\u001b[0m\u001b[0mx_test_mit\u001b[0m\u001b[0;34m,\u001b[0m \u001b[0my_test_mit\u001b[0m\u001b[0;34m,\u001b[0m \u001b[0mverbose\u001b[0m\u001b[0;34m=\u001b[0m\u001b[0;36m0\u001b[0m\u001b[0;34m)\u001b[0m\u001b[0;34m\u001b[0m\u001b[0;34m\u001b[0m\u001b[0m\n\u001b[1;32m      4\u001b[0m \u001b[0mprint\u001b[0m\u001b[0;34m(\u001b[0m\u001b[0;34m'Training Accuracy: %.2f, Test Accuracy: %.2f'\u001b[0m \u001b[0;34m%\u001b[0m \u001b[0;34m(\u001b[0m\u001b[0mtrain_acc\u001b[0m\u001b[0;34m*\u001b[0m\u001b[0;36m100\u001b[0m\u001b[0;34m,\u001b[0m \u001b[0mtest_acc\u001b[0m\u001b[0;34m*\u001b[0m\u001b[0;36m100\u001b[0m\u001b[0;34m)\u001b[0m\u001b[0;34m)\u001b[0m\u001b[0;34m\u001b[0m\u001b[0;34m\u001b[0m\u001b[0m\n\u001b[1;32m      5\u001b[0m \u001b[0mprint\u001b[0m\u001b[0;34m(\u001b[0m\u001b[0;34m'Training Loss: %.2f, Test Loss: %.2f'\u001b[0m \u001b[0;34m%\u001b[0m \u001b[0;34m(\u001b[0m\u001b[0mtrain_loss\u001b[0m\u001b[0;34m*\u001b[0m\u001b[0;36m100\u001b[0m\u001b[0;34m,\u001b[0m \u001b[0mtest_loss\u001b[0m\u001b[0;34m*\u001b[0m\u001b[0;36m100\u001b[0m\u001b[0;34m)\u001b[0m\u001b[0;34m)\u001b[0m\u001b[0;34m\u001b[0m\u001b[0;34m\u001b[0m\u001b[0m\n",
            "\u001b[0;32m/usr/local/lib/python3.12/dist-packages/keras/src/utils/traceback_utils.py\u001b[0m in \u001b[0;36merror_handler\u001b[0;34m(*args, **kwargs)\u001b[0m\n\u001b[1;32m    120\u001b[0m             \u001b[0;31m# To get the full stack trace, call:\u001b[0m\u001b[0;34m\u001b[0m\u001b[0;34m\u001b[0m\u001b[0m\n\u001b[1;32m    121\u001b[0m             \u001b[0;31m# `keras.config.disable_traceback_filtering()`\u001b[0m\u001b[0;34m\u001b[0m\u001b[0;34m\u001b[0m\u001b[0m\n\u001b[0;32m--> 122\u001b[0;31m             \u001b[0;32mraise\u001b[0m \u001b[0me\u001b[0m\u001b[0;34m.\u001b[0m\u001b[0mwith_traceback\u001b[0m\u001b[0;34m(\u001b[0m\u001b[0mfiltered_tb\u001b[0m\u001b[0;34m)\u001b[0m \u001b[0;32mfrom\u001b[0m \u001b[0;32mNone\u001b[0m\u001b[0;34m\u001b[0m\u001b[0;34m\u001b[0m\u001b[0m\n\u001b[0m\u001b[1;32m    123\u001b[0m         \u001b[0;32mfinally\u001b[0m\u001b[0;34m:\u001b[0m\u001b[0;34m\u001b[0m\u001b[0;34m\u001b[0m\u001b[0m\n\u001b[1;32m    124\u001b[0m             \u001b[0;32mdel\u001b[0m \u001b[0mfiltered_tb\u001b[0m\u001b[0;34m\u001b[0m\u001b[0;34m\u001b[0m\u001b[0m\n",
            "\u001b[0;32m/usr/local/lib/python3.12/dist-packages/keras/src/trainers/compile_utils.py\u001b[0m in \u001b[0;36mcall\u001b[0;34m(self, y_true, y_pred, sample_weight)\u001b[0m\n\u001b[1;32m    752\u001b[0m                             \u001b[0;32mlambda\u001b[0m \u001b[0m_\u001b[0m\u001b[0;34m:\u001b[0m \u001b[0;34m\"*\"\u001b[0m\u001b[0;34m,\u001b[0m \u001b[0my_pred\u001b[0m\u001b[0;34m\u001b[0m\u001b[0;34m\u001b[0m\u001b[0m\n\u001b[1;32m    753\u001b[0m                         )\n\u001b[0;32m--> 754\u001b[0;31m                         raise ValueError(\n\u001b[0m\u001b[1;32m    755\u001b[0m                             \u001b[0;34m\"y_true and y_pred have different structures.\\n\"\u001b[0m\u001b[0;34m\u001b[0m\u001b[0;34m\u001b[0m\u001b[0m\n\u001b[1;32m    756\u001b[0m                             \u001b[0;34mf\"y_true: {y_true_struct}\\n\"\u001b[0m\u001b[0;34m\u001b[0m\u001b[0;34m\u001b[0m\u001b[0m\n",
            "\u001b[0;31mValueError\u001b[0m: y_true and y_pred have different structures.\ny_true: *\ny_pred: ['*', '*']\n"
          ]
        }
      ],
      "source": [
        "# evaluate the model\n",
        "train_loss, train_acc = dann_model.evaluate(x_train_mit, y_train_mit, verbose=0)\n",
        "test_loss, test_acc = dann_model.evaluate(x_test_mit, y_test_mit, verbose=0)\n",
        "print('Training Accuracy: %.2f, Test Accuracy: %.2f' % (train_acc*100, test_acc*100))\n",
        "print('Training Loss: %.2f, Test Loss: %.2f' % (train_loss*100, test_loss*100))"
      ]
    },
    {
      "cell_type": "markdown",
      "metadata": {
        "id": "gz3HsoLtlCLe"
      },
      "source": [
        "**b. Using the Best Model**\n",
        "We saved many checkpoints of the model. Among these checkpoints we will consider the checkpoint which has the largest validation accuracy. Then copy its path and update the model weights."
      ]
    },
    {
      "cell_type": "code",
      "execution_count": null,
      "metadata": {
        "id": "LVOh3uKPlpwM"
      },
      "outputs": [],
      "source": [
        "# model2 taken fro model_checkpoint callback\n",
        "model2 = buildModel()\n",
        "model2.compile(optimizer='adam', loss='sparse_categorical_crossentropy', metrics=['accuracy'])\n",
        "\n",
        "# Update the weights with best validation accuracy # Loads the weights\n",
        "model2.load_weights(checkpoint_filepath)"
      ]
    },
    {
      "cell_type": "code",
      "execution_count": null,
      "metadata": {
        "id": "m011zrfCvQXF"
      },
      "outputs": [],
      "source": [
        "# evaluate the best model\n",
        "train_loss_cp, train_acc_cp = model2.evaluate(X_train, Y_train, verbose=0)\n",
        "test_loss_cp, test_acc_cp = model2.evaluate(X_test, Y_test, verbose=0)\n",
        "print('Training Accuracy: %.2f, Test Accuracy: %.2f' % (train_acc_cp*100, test_acc_cp*100))\n",
        "print('Training Loss: %.2f, Test Loss: %.2f' % (train_loss_cp*100, test_loss_cp*100))"
      ]
    },
    {
      "cell_type": "markdown",
      "metadata": {
        "id": "dHBFWsnNI4_I"
      },
      "source": [
        "**Confusion Matrix**"
      ]
    },
    {
      "cell_type": "code",
      "execution_count": null,
      "metadata": {
        "id": "9accUrgp0ACj"
      },
      "outputs": [],
      "source": [
        "# confusion matrix\n",
        "def plotHeatMap(Y_test, Y_pred):\n",
        "    con_mat = confusion_matrix(Y_test, Y_pred)\n",
        "    # Normalized\n",
        "    # con_mat_norm = con_mat.astype('float') / con_mat.sum(axis=1)[:, np.newaxis]\n",
        "    # con_mat_norm = np.around(con_mat_norm, decimals=2)\n",
        "\n",
        "    # Plotting\n",
        "    plt.figure(figsize=(8, 8))\n",
        "    seaborn.heatmap(con_mat, annot=True, square=True, fmt='.20g', cmap='Greens')\n",
        "    plt.ylim(0, 5)\n",
        "    plt.xlabel('Predicted labels')\n",
        "    plt.ylabel('True labels')\n",
        "    plt.show()"
      ]
    },
    {
      "cell_type": "code",
      "execution_count": null,
      "metadata": {
        "id": "FGjwYAkXyaDp"
      },
      "outputs": [],
      "source": [
        "# predict\n",
        "Y_pred = np.argmax(model.predict(X_test), axis=-1)\n",
        "# Y_pred = model.predict_classes(X_test)\n",
        "# plot confusion matrix\n",
        "plotHeatMap(Y_test, Y_pred)"
      ]
    },
    {
      "cell_type": "markdown",
      "metadata": {
        "id": "gIpmvKWcuv-e"
      },
      "source": [
        "## **F2: Per Class Performance**\n",
        "Calculating per class Sensitivity, Specificity, Accuracy and F1 score."
      ]
    },
    {
      "cell_type": "code",
      "execution_count": null,
      "metadata": {
        "id": "IOqsn6pAulx_"
      },
      "outputs": [],
      "source": [
        "# Per class accuracy printing function\n",
        "def _report(TN, FP, FN, TP):\n",
        "    TPR = TP/(TP+FN) if (TP+FN)!=0 else 0\n",
        "    TNR = TN/(TN+FP) if (TN+FP)!=0 else 0\n",
        "    PPV = TP/(TP+FP) if (TP+FP)!=0 else 0\n",
        "    '''\n",
        "    report = {'TP': TP, 'TN': TN, 'FP': FP, 'FN': FN,\n",
        "              'TPR': TPR, 'Recall': TPR, 'Sensitivity': TPR,\n",
        "              'TNR' : TNR, 'Specificity': TNR,\n",
        "              'FPR': FP/(FP+TN) if (FP+TN)!=0 else 0,\n",
        "              'FNR': FN/(FN+TP) if (FN+TP)!=0 else 0,\n",
        "              'PPV': PPV, 'Precision': PPV,\n",
        "              'F1 Score': 2*(PPV*TPR)/(PPV+TPR),\n",
        "              'Per Class Accuracy': (TP+TN)/(TP+FP+FN+TN)\n",
        "             }'''\n",
        "\n",
        "    report = {'Sensitivity (%)': TPR*100,\n",
        "              'Specificity (%)': TNR*100,\n",
        "              'F1 Score (%)': 2*100*(PPV*TPR)/(PPV+TPR),\n",
        "              'Per Class Accuracy (%)': (TP+TN)*100/(TP+FP+FN+TN)\n",
        "             }\n",
        "    return report\n",
        "\n",
        "def multi_classification_report(y_test, y_pred, labels=None, encoded_labels=True, as_frame=False):\n",
        "    \"\"\"\n",
        "    Args:\n",
        "        y_test (ndarray)\n",
        "        y_pred (ndarray)\n",
        "        labels (list)\n",
        "        encoded_labels (bool): Need to be False if labels are not one hot encoded\n",
        "        as_fram (bool): If True, return type will be DataFrame\n",
        "\n",
        "    Return:\n",
        "        report (dict)\n",
        "    \"\"\"\n",
        "\n",
        "    import numpy as np\n",
        "    import pandas as pd\n",
        "    from sklearn.metrics import multilabel_confusion_matrix\n",
        "\n",
        "    conf_labels = None if encoded_labels else labels\n",
        "\n",
        "    conf_mat = multilabel_confusion_matrix(y_test, y_pred, labels=conf_labels)\n",
        "    report = dict()\n",
        "    if labels == None:\n",
        "        counter = np.arange(len(conf_mat))\n",
        "    else:\n",
        "        counter = labels\n",
        "\n",
        "    for i, name in enumerate(counter):\n",
        "        TN, FP, FN, TP = conf_mat[i].ravel()\n",
        "        report[name] = _report(TN, FP, FN, TP)\n",
        "\n",
        "    if as_frame:\n",
        "        return pd.DataFrame(report)\n",
        "    return report"
      ]
    },
    {
      "cell_type": "markdown",
      "metadata": {
        "id": "X9tUKzOksgvS"
      },
      "source": [
        "**a. Recently Trained Model**"
      ]
    },
    {
      "cell_type": "code",
      "execution_count": null,
      "metadata": {
        "id": "Hyg86M46uoTm"
      },
      "outputs": [],
      "source": [
        "# Per class performance\n",
        "labels = ['N', 'S', 'V', 'F', 'Q']\n",
        "Y_pred = np.argmax(model.predict(X_test), axis=-1)\n",
        "multi_classification_report(Y_test, Y_pred, labels=labels, encoded_labels=True, as_frame=True)"
      ]
    },
    {
      "cell_type": "markdown",
      "metadata": {
        "id": "ccpsgE0qvumu"
      },
      "source": [
        "**b. Best Model**"
      ]
    },
    {
      "cell_type": "code",
      "execution_count": null,
      "metadata": {
        "id": "QnMl8kOEvLde"
      },
      "outputs": [],
      "source": [
        "# Per class performance\n",
        "labels = ['N', 'S', 'V', 'F', 'Q']\n",
        "Y_pred = np.argmax(model2.predict(X_test), axis=-1)\n",
        "multi_classification_report(Y_test, Y_pred, labels=labels, encoded_labels=True, as_frame=True)"
      ]
    }
  ],
  "metadata": {
    "accelerator": "GPU",
    "colab": {
      "gpuType": "T4",
      "provenance": []
    },
    "kernelspec": {
      "display_name": "tf-gpu",
      "language": "python",
      "name": "python3"
    },
    "language_info": {
      "codemirror_mode": {
        "name": "ipython",
        "version": 3
      },
      "file_extension": ".py",
      "mimetype": "text/x-python",
      "name": "python",
      "nbconvert_exporter": "python",
      "pygments_lexer": "ipython3",
      "version": "3.10.18"
    }
  },
  "nbformat": 4,
  "nbformat_minor": 0
}
